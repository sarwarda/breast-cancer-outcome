{
 "cells": [
  {
   "cell_type": "code",
   "execution_count": 1,
   "id": "280ba0c5-f93f-49c0-9fbe-e839bce54f5d",
   "metadata": {},
   "outputs": [
    {
     "name": "stdout",
     "output_type": "stream",
     "text": [
      "Python 3.10.6\n"
     ]
    }
   ],
   "source": [
    "! python --version"
   ]
  },
  {
   "cell_type": "markdown",
   "id": "3af88f87-6ffe-4bf1-8922-db4b114e3b1b",
   "metadata": {},
   "source": [
    "## SEER Breast Cancer Dataset: ETL & EDA\n",
    "### Sarah Warda\n",
    "\n",
    "<br>\n",
    "\n",
    "The purpose of this notebook is to load the data set, assess data types of the variables, examine distributions of single variables, and examine pairwise relationships of possible significance. The overall purpose of the project is to generate two dashboards in tableau using any information we learn in these notebooks, so discussion within the notebooks is a little more limited, for now.\n",
    "\n",
    "The `SEER Breast Cancer Dataset` can be found at this link: https://ieee-dataport.org/open-access/seer-breast-cancer-data\n",
    "\n",
    "<br>"
   ]
  },
  {
   "cell_type": "code",
   "execution_count": 2,
   "id": "50b2e053-794e-4333-98fb-bcbef30f2a56",
   "metadata": {},
   "outputs": [],
   "source": [
    "%matplotlib inline"
   ]
  },
  {
   "cell_type": "code",
   "execution_count": 3,
   "id": "9f949ba5-a39f-49ee-898e-5c76d48dd66e",
   "metadata": {},
   "outputs": [],
   "source": [
    "import numpy as np\n",
    "import random as py_random\n",
    "import numpy.random as np_random\n",
    "import seaborn as sns\n",
    "import matplotlib.pyplot as plt\n",
    "import pandas as pd\n",
    "import scipy.stats as stats\n",
    "\n",
    "import warnings\n",
    "warnings.filterwarnings('ignore')\n",
    "\n",
    "sns.set(style=\"whitegrid\")"
   ]
  },
  {
   "cell_type": "markdown",
   "id": "b3f1bb31-9175-4a77-a169-1c3b52870670",
   "metadata": {},
   "source": [
    "## Index\n",
    "\n",
    "- [ETL: Prepare Dataset for Analysis](#Extract,-Transform,-Load)\n",
    "- [EDA: Evaluate variables and their Relationships with Target Variable](#Exploratory-Data-Analysis)\n",
    "    - [Single Variable Exploration](#Single-Variable-Exploration)\n",
    "        - [Age](#Age)\n",
    "        - [Race](#Race)\n",
    "        - [Marital Status](#Marital-Status)\n",
    "        - [T-Stage](#T-Stage)\n",
    "        - [N-Stage](#N-Stage)\n",
    "        - [6th-Stage](#6th-Stage)\n",
    "        - [Grade](#Grade)\n",
    "        - [A-Stage](#A-Stage)\n",
    "        - [Tumor Size](#Tumor-Size)\n",
    "        - [Estrogen Status](#Estrogen-Status)\n",
    "        - [Progesterone Status](#Progesterone-Status)\n",
    "        - [Regional Node Examined](#Regional-Node-Examined)\n",
    "        - [Regional Node Positive](#Regional-Node-Positive)\n",
    "        - [Survival Months](#Survival-Months)\n",
    "        - [Status](#Status)\n",
    "    - [Pairwise Relationships](#Pairwise-Relationships)\n",
    "        - [Status vs. Age](#Status-vs.-Age)\n",
    "        - [Status vs. Race](#Status-vs.-Race)\n",
    "        - [Status vs. Marital Status](#Status-vs.-Marital-Status)\n",
    "        - [Status vs. T-Stage](#Status-vs.-T-Stage)\n",
    "        - [Status vs. N-Stage](#Status-vs.-N-Stage)\n",
    "        - [Status vs. 6th-Stage](#Status-vs.-6th-Stage)\n",
    "        - [Status vs. Grade](#Status-vs.-Grade)\n",
    "        - [Status vs. A-Stage](#Status-vs.-A-Stage)\n",
    "        - [Status vs. Tumor Size](#Status-vs.-Tumor-Size)\n",
    "        - [Status vs. Estrogen Status](#Status-vs.-Estrogen-Status)\n",
    "        - [Status vs. Progesterone Status](#Status-vs.-Progesterone-Status)\n",
    "        - [Status vs. Regional Node Examined](#Status-vs.-Regional-Node-Examined)\n",
    "        - [Status vs. Regional Node Positive](#Status-vs.-Regional-Node-Positive)\n",
    "        - [Status vs. Survival Months](#Status-vs.-Survival-Months)"
   ]
  },
  {
   "cell_type": "markdown",
   "id": "7929c4a7-523d-47e4-8f3f-7f3cc4225807",
   "metadata": {},
   "source": [
    "## Extract, Transform, Load"
   ]
  },
  {
   "cell_type": "markdown",
   "id": "306cec9d-6711-40c8-bb33-0b420e6f3f6e",
   "metadata": {},
   "source": [
    "[Index](#Index)"
   ]
  },
  {
   "cell_type": "code",
   "execution_count": 4,
   "id": "f74a9e5f-af35-447f-a17a-0fb8825ec049",
   "metadata": {},
   "outputs": [],
   "source": [
    "df = pd.read_csv('SEER Breast Cancer.csv')"
   ]
  },
  {
   "cell_type": "code",
   "execution_count": 5,
   "id": "092a01fd-9865-4132-a992-2a3dd7043dd3",
   "metadata": {},
   "outputs": [
    {
     "name": "stdout",
     "output_type": "stream",
     "text": [
      "<class 'pandas.core.frame.DataFrame'>\n",
      "RangeIndex: 4024 entries, 0 to 4023\n",
      "Data columns (total 16 columns):\n",
      " #   Column                  Non-Null Count  Dtype  \n",
      "---  ------                  --------------  -----  \n",
      " 0   Age                     4024 non-null   int64  \n",
      " 1   Race                    4024 non-null   object \n",
      " 2   Marital Status          4024 non-null   object \n",
      " 3   Unnamed: 3              0 non-null      float64\n",
      " 4   T Stage                 4024 non-null   object \n",
      " 5   N Stage                 4024 non-null   object \n",
      " 6   6th Stage               4024 non-null   object \n",
      " 7   Grade                   4024 non-null   object \n",
      " 8   A Stage                 4024 non-null   object \n",
      " 9   Tumor Size              4024 non-null   int64  \n",
      " 10  Estrogen Status         4024 non-null   object \n",
      " 11  Progesterone Status     4024 non-null   object \n",
      " 12  Regional Node Examined  4024 non-null   int64  \n",
      " 13  Reginol Node Positive   4024 non-null   int64  \n",
      " 14  Survival Months         4024 non-null   int64  \n",
      " 15  Status                  4024 non-null   object \n",
      "dtypes: float64(1), int64(5), object(10)\n",
      "memory usage: 503.1+ KB\n"
     ]
    }
   ],
   "source": [
    "df.info()"
   ]
  },
  {
   "cell_type": "code",
   "execution_count": 6,
   "id": "28ec92ac-3405-4e07-88c0-b8b62a4b32ba",
   "metadata": {},
   "outputs": [
    {
     "data": {
      "text/html": [
       "<div>\n",
       "<style scoped>\n",
       "    .dataframe tbody tr th:only-of-type {\n",
       "        vertical-align: middle;\n",
       "    }\n",
       "\n",
       "    .dataframe tbody tr th {\n",
       "        vertical-align: top;\n",
       "    }\n",
       "\n",
       "    .dataframe thead th {\n",
       "        text-align: right;\n",
       "    }\n",
       "</style>\n",
       "<table border=\"1\" class=\"dataframe\">\n",
       "  <thead>\n",
       "    <tr style=\"text-align: right;\">\n",
       "      <th></th>\n",
       "      <th>Age</th>\n",
       "      <th>Race</th>\n",
       "      <th>MaritalStatus</th>\n",
       "      <th>TStage</th>\n",
       "      <th>NStage</th>\n",
       "      <th>6thStage</th>\n",
       "      <th>Grade</th>\n",
       "      <th>AStage</th>\n",
       "      <th>TumorSize</th>\n",
       "      <th>EstrogenStatus</th>\n",
       "      <th>ProgesteroneStatus</th>\n",
       "      <th>RegionalNodeExamined</th>\n",
       "      <th>RegionalNodePositive</th>\n",
       "      <th>SurvivalMonths</th>\n",
       "      <th>Status</th>\n",
       "    </tr>\n",
       "  </thead>\n",
       "  <tbody>\n",
       "    <tr>\n",
       "      <th>0</th>\n",
       "      <td>43</td>\n",
       "      <td>Other (American Indian/AK Native, Asian/Pacifi...</td>\n",
       "      <td>Married (including common law)</td>\n",
       "      <td>T2</td>\n",
       "      <td>N3</td>\n",
       "      <td>IIIC</td>\n",
       "      <td>Moderately differentiated; Grade II</td>\n",
       "      <td>Regional</td>\n",
       "      <td>40</td>\n",
       "      <td>Positive</td>\n",
       "      <td>Positive</td>\n",
       "      <td>19</td>\n",
       "      <td>11</td>\n",
       "      <td>1</td>\n",
       "      <td>Alive</td>\n",
       "    </tr>\n",
       "    <tr>\n",
       "      <th>1</th>\n",
       "      <td>47</td>\n",
       "      <td>Other (American Indian/AK Native, Asian/Pacifi...</td>\n",
       "      <td>Married (including common law)</td>\n",
       "      <td>T2</td>\n",
       "      <td>N2</td>\n",
       "      <td>IIIA</td>\n",
       "      <td>Moderately differentiated; Grade II</td>\n",
       "      <td>Regional</td>\n",
       "      <td>45</td>\n",
       "      <td>Positive</td>\n",
       "      <td>Positive</td>\n",
       "      <td>25</td>\n",
       "      <td>9</td>\n",
       "      <td>2</td>\n",
       "      <td>Alive</td>\n",
       "    </tr>\n",
       "    <tr>\n",
       "      <th>2</th>\n",
       "      <td>67</td>\n",
       "      <td>White</td>\n",
       "      <td>Married (including common law)</td>\n",
       "      <td>T2</td>\n",
       "      <td>N1</td>\n",
       "      <td>IIB</td>\n",
       "      <td>Poorly differentiated; Grade III</td>\n",
       "      <td>Regional</td>\n",
       "      <td>25</td>\n",
       "      <td>Positive</td>\n",
       "      <td>Positive</td>\n",
       "      <td>4</td>\n",
       "      <td>1</td>\n",
       "      <td>2</td>\n",
       "      <td>Dead</td>\n",
       "    </tr>\n",
       "    <tr>\n",
       "      <th>3</th>\n",
       "      <td>46</td>\n",
       "      <td>White</td>\n",
       "      <td>Divorced</td>\n",
       "      <td>T1</td>\n",
       "      <td>N1</td>\n",
       "      <td>IIA</td>\n",
       "      <td>Moderately differentiated; Grade II</td>\n",
       "      <td>Regional</td>\n",
       "      <td>19</td>\n",
       "      <td>Positive</td>\n",
       "      <td>Positive</td>\n",
       "      <td>26</td>\n",
       "      <td>1</td>\n",
       "      <td>2</td>\n",
       "      <td>Dead</td>\n",
       "    </tr>\n",
       "    <tr>\n",
       "      <th>4</th>\n",
       "      <td>63</td>\n",
       "      <td>White</td>\n",
       "      <td>Married (including common law)</td>\n",
       "      <td>T2</td>\n",
       "      <td>N2</td>\n",
       "      <td>IIIA</td>\n",
       "      <td>Moderately differentiated; Grade II</td>\n",
       "      <td>Regional</td>\n",
       "      <td>35</td>\n",
       "      <td>Positive</td>\n",
       "      <td>Positive</td>\n",
       "      <td>21</td>\n",
       "      <td>5</td>\n",
       "      <td>3</td>\n",
       "      <td>Dead</td>\n",
       "    </tr>\n",
       "  </tbody>\n",
       "</table>\n",
       "</div>"
      ],
      "text/plain": [
       "   Age                                               Race  \\\n",
       "0   43  Other (American Indian/AK Native, Asian/Pacifi...   \n",
       "1   47  Other (American Indian/AK Native, Asian/Pacifi...   \n",
       "2   67                                              White   \n",
       "3   46                                              White   \n",
       "4   63                                              White   \n",
       "\n",
       "                    MaritalStatus TStage NStage 6thStage  \\\n",
       "0  Married (including common law)     T2     N3     IIIC   \n",
       "1  Married (including common law)     T2     N2     IIIA   \n",
       "2  Married (including common law)     T2     N1      IIB   \n",
       "3                        Divorced     T1     N1      IIA   \n",
       "4  Married (including common law)     T2     N2     IIIA   \n",
       "\n",
       "                                 Grade    AStage  TumorSize EstrogenStatus  \\\n",
       "0  Moderately differentiated; Grade II  Regional         40       Positive   \n",
       "1  Moderately differentiated; Grade II  Regional         45       Positive   \n",
       "2     Poorly differentiated; Grade III  Regional         25       Positive   \n",
       "3  Moderately differentiated; Grade II  Regional         19       Positive   \n",
       "4  Moderately differentiated; Grade II  Regional         35       Positive   \n",
       "\n",
       "  ProgesteroneStatus  RegionalNodeExamined  RegionalNodePositive  \\\n",
       "0           Positive                    19                    11   \n",
       "1           Positive                    25                     9   \n",
       "2           Positive                     4                     1   \n",
       "3           Positive                    26                     1   \n",
       "4           Positive                    21                     5   \n",
       "\n",
       "   SurvivalMonths Status  \n",
       "0               1  Alive  \n",
       "1               2  Alive  \n",
       "2               2   Dead  \n",
       "3               2   Dead  \n",
       "4               3   Dead  "
      ]
     },
     "execution_count": 6,
     "metadata": {},
     "output_type": "execute_result"
    }
   ],
   "source": [
    "# this is a blank column used to separate sections in the csv. It serves no purpose in analysis\n",
    "df = df.drop(df.columns[3], axis=1) \n",
    "\n",
    "# some column headers have spaces that make it hard to reference variables\n",
    "df.columns = df.columns.str.replace(' ', '') \n",
    "\n",
    "# correct a typo in one of the column names\n",
    "df = df.rename(columns={'ReginolNodePositive' : 'RegionalNodePositive'}) #fix typo in column name\n",
    "\n",
    "df.head()"
   ]
  },
  {
   "cell_type": "code",
   "execution_count": 7,
   "id": "cd2e5f62-4db6-490a-b08b-5f6d31bf0865",
   "metadata": {},
   "outputs": [],
   "source": [
    "df.to_csv('SEER Breast Cancer clean.csv', index=False)"
   ]
  },
  {
   "cell_type": "markdown",
   "id": "6922f499-1328-484a-a992-90595ac57d98",
   "metadata": {},
   "source": [
    "## Exploratory Data Analysis\n",
    "[Index](#Index)\n",
    "\n",
    "For the single variable exploration, every variable will be evaluated based on their data type. For pairwise relationships, every variable will be evaluated against the target variable, which is `Status`, to gain insight on their feature importance."
   ]
  },
  {
   "cell_type": "markdown",
   "id": "52a3550f-b560-4ffe-96eb-bde59d676c2a",
   "metadata": {},
   "source": [
    "### Single Variable Exploration"
   ]
  },
  {
   "cell_type": "markdown",
   "id": "df391bae-73e5-4f47-aa41-a99689e69b0e",
   "metadata": {},
   "source": [
    "#### Age"
   ]
  },
  {
   "cell_type": "markdown",
   "id": "5e71ceaa-c876-4c5e-9a7f-10d9bdf7fbda",
   "metadata": {},
   "source": [
    "[Index](#Index)"
   ]
  },
  {
   "cell_type": "code",
   "execution_count": 8,
   "id": "53a150de-8fd5-4d8a-8c73-6c06260a5e88",
   "metadata": {},
   "outputs": [
    {
     "data": {
      "text/html": [
       "<div>\n",
       "<style scoped>\n",
       "    .dataframe tbody tr th:only-of-type {\n",
       "        vertical-align: middle;\n",
       "    }\n",
       "\n",
       "    .dataframe tbody tr th {\n",
       "        vertical-align: top;\n",
       "    }\n",
       "\n",
       "    .dataframe thead th {\n",
       "        text-align: right;\n",
       "    }\n",
       "</style>\n",
       "<table border=\"1\" class=\"dataframe\">\n",
       "  <thead>\n",
       "    <tr style=\"text-align: right;\">\n",
       "      <th></th>\n",
       "      <th>Age</th>\n",
       "    </tr>\n",
       "  </thead>\n",
       "  <tbody>\n",
       "    <tr>\n",
       "      <th>count</th>\n",
       "      <td>4024.000000</td>\n",
       "    </tr>\n",
       "    <tr>\n",
       "      <th>mean</th>\n",
       "      <td>53.972167</td>\n",
       "    </tr>\n",
       "    <tr>\n",
       "      <th>std</th>\n",
       "      <td>8.963134</td>\n",
       "    </tr>\n",
       "    <tr>\n",
       "      <th>min</th>\n",
       "      <td>30.000000</td>\n",
       "    </tr>\n",
       "    <tr>\n",
       "      <th>25%</th>\n",
       "      <td>47.000000</td>\n",
       "    </tr>\n",
       "    <tr>\n",
       "      <th>50%</th>\n",
       "      <td>54.000000</td>\n",
       "    </tr>\n",
       "    <tr>\n",
       "      <th>75%</th>\n",
       "      <td>61.000000</td>\n",
       "    </tr>\n",
       "    <tr>\n",
       "      <th>max</th>\n",
       "      <td>69.000000</td>\n",
       "    </tr>\n",
       "  </tbody>\n",
       "</table>\n",
       "</div>"
      ],
      "text/plain": [
       "               Age\n",
       "count  4024.000000\n",
       "mean     53.972167\n",
       "std       8.963134\n",
       "min      30.000000\n",
       "25%      47.000000\n",
       "50%      54.000000\n",
       "75%      61.000000\n",
       "max      69.000000"
      ]
     },
     "execution_count": 8,
     "metadata": {},
     "output_type": "execute_result"
    }
   ],
   "source": [
    "pd.DataFrame(df.Age.describe())"
   ]
  },
  {
   "cell_type": "code",
   "execution_count": 9,
   "id": "3ab1cbce-ac8b-401e-8611-15f3e4d87f9f",
   "metadata": {},
   "outputs": [
    {
     "data": {
      "image/png": "[encoded data removed]",
      "text/plain": [
       "<Figure size 1000x600 with 1 Axes>"
      ]
     },
     "metadata": {},
     "output_type": "display_data"
    }
   ],
   "source": [
    "figure = plt.figure(figsize=(10, 6))\n",
    "\n",
    "axes = figure.add_subplot(1, 1, 1)\n",
    "axes.hist(df.Age, color=\"darkslategray\")\n",
    "axes.set_title(\"Age distribution\")\n",
    "axes.set_xlabel(\"Age\")\n",
    "\n",
    "plt.show()\n",
    "plt.close()"
   ]
  },
  {
   "cell_type": "markdown",
   "id": "25dc65e6-8879-4773-9bb1-5b25a18c2187",
   "metadata": {},
   "source": [
    "#### Race"
   ]
  },
  {
   "cell_type": "markdown",
   "id": "023b978b-19d4-40fa-811c-e8b0c6f051f3",
   "metadata": {},
   "source": [
    "[Index](#Index)"
   ]
  },
  {
   "cell_type": "code",
   "execution_count": 10,
   "id": "f0be7b74-d702-4db6-8889-7b66d2557d4a",
   "metadata": {},
   "outputs": [
    {
     "data": {
      "text/html": [
       "<div>\n",
       "<style scoped>\n",
       "    .dataframe tbody tr th:only-of-type {\n",
       "        vertical-align: middle;\n",
       "    }\n",
       "\n",
       "    .dataframe tbody tr th {\n",
       "        vertical-align: top;\n",
       "    }\n",
       "\n",
       "    .dataframe thead th {\n",
       "        text-align: right;\n",
       "    }\n",
       "</style>\n",
       "<table border=\"1\" class=\"dataframe\">\n",
       "  <thead>\n",
       "    <tr style=\"text-align: right;\">\n",
       "      <th></th>\n",
       "      <th>Race</th>\n",
       "    </tr>\n",
       "  </thead>\n",
       "  <tbody>\n",
       "    <tr>\n",
       "      <th>count</th>\n",
       "      <td>4024</td>\n",
       "    </tr>\n",
       "    <tr>\n",
       "      <th>unique</th>\n",
       "      <td>3</td>\n",
       "    </tr>\n",
       "    <tr>\n",
       "      <th>top</th>\n",
       "      <td>White</td>\n",
       "    </tr>\n",
       "    <tr>\n",
       "      <th>freq</th>\n",
       "      <td>3413</td>\n",
       "    </tr>\n",
       "  </tbody>\n",
       "</table>\n",
       "</div>"
      ],
      "text/plain": [
       "         Race\n",
       "count    4024\n",
       "unique      3\n",
       "top     White\n",
       "freq     3413"
      ]
     },
     "execution_count": 10,
     "metadata": {},
     "output_type": "execute_result"
    }
   ],
   "source": [
    "pd.DataFrame(df.Race.describe())"
   ]
  },
  {
   "cell_type": "code",
   "execution_count": 11,
   "id": "3420b8fb-7bd2-4ec6-9863-fa88f140430c",
   "metadata": {},
   "outputs": [
    {
     "data": {
      "text/html": [
       "<div>\n",
       "<style scoped>\n",
       "    .dataframe tbody tr th:only-of-type {\n",
       "        vertical-align: middle;\n",
       "    }\n",
       "\n",
       "    .dataframe tbody tr th {\n",
       "        vertical-align: top;\n",
       "    }\n",
       "\n",
       "    .dataframe thead th {\n",
       "        text-align: right;\n",
       "    }\n",
       "</style>\n",
       "<table border=\"1\" class=\"dataframe\">\n",
       "  <thead>\n",
       "    <tr style=\"text-align: right;\">\n",
       "      <th></th>\n",
       "      <th>Race</th>\n",
       "    </tr>\n",
       "  </thead>\n",
       "  <tbody>\n",
       "    <tr>\n",
       "      <th>White</th>\n",
       "      <td>3413</td>\n",
       "    </tr>\n",
       "    <tr>\n",
       "      <th>Other (American Indian/AK Native, Asian/Pacific Islander)</th>\n",
       "      <td>320</td>\n",
       "    </tr>\n",
       "    <tr>\n",
       "      <th>Black</th>\n",
       "      <td>291</td>\n",
       "    </tr>\n",
       "  </tbody>\n",
       "</table>\n",
       "</div>"
      ],
      "text/plain": [
       "                                                    Race\n",
       "White                                               3413\n",
       "Other (American Indian/AK Native, Asian/Pacific...   320\n",
       "Black                                                291"
      ]
     },
     "execution_count": 11,
     "metadata": {},
     "output_type": "execute_result"
    }
   ],
   "source": [
    "pd.DataFrame(df.Race.value_counts())"
   ]
  },
  {
   "cell_type": "markdown",
   "id": "ef6aa605-074a-421a-8eeb-6f16d1944f0c",
   "metadata": {},
   "source": [
    "#### Marital Status"
   ]
  },
  {
   "cell_type": "markdown",
   "id": "5efe20ab-6f59-45e7-b81c-3be65f05febe",
   "metadata": {},
   "source": [
    "[Index](#Index)"
   ]
  },
  {
   "cell_type": "code",
   "execution_count": 12,
   "id": "92d6ba8a-35f7-4b5b-8a39-3d6faf28f2e2",
   "metadata": {},
   "outputs": [
    {
     "data": {
      "text/html": [
       "<div>\n",
       "<style scoped>\n",
       "    .dataframe tbody tr th:only-of-type {\n",
       "        vertical-align: middle;\n",
       "    }\n",
       "\n",
       "    .dataframe tbody tr th {\n",
       "        vertical-align: top;\n",
       "    }\n",
       "\n",
       "    .dataframe thead th {\n",
       "        text-align: right;\n",
       "    }\n",
       "</style>\n",
       "<table border=\"1\" class=\"dataframe\">\n",
       "  <thead>\n",
       "    <tr style=\"text-align: right;\">\n",
       "      <th></th>\n",
       "      <th>MaritalStatus</th>\n",
       "    </tr>\n",
       "  </thead>\n",
       "  <tbody>\n",
       "    <tr>\n",
       "      <th>count</th>\n",
       "      <td>4024</td>\n",
       "    </tr>\n",
       "    <tr>\n",
       "      <th>unique</th>\n",
       "      <td>5</td>\n",
       "    </tr>\n",
       "    <tr>\n",
       "      <th>top</th>\n",
       "      <td>Married (including common law)</td>\n",
       "    </tr>\n",
       "    <tr>\n",
       "      <th>freq</th>\n",
       "      <td>2643</td>\n",
       "    </tr>\n",
       "  </tbody>\n",
       "</table>\n",
       "</div>"
      ],
      "text/plain": [
       "                         MaritalStatus\n",
       "count                             4024\n",
       "unique                               5\n",
       "top     Married (including common law)\n",
       "freq                              2643"
      ]
     },
     "execution_count": 12,
     "metadata": {},
     "output_type": "execute_result"
    }
   ],
   "source": [
    "pd.DataFrame(df.MaritalStatus.describe())"
   ]
  },
  {
   "cell_type": "code",
   "execution_count": 13,
   "id": "e6c5ca91-2c37-429b-a231-b89f96e57526",
   "metadata": {},
   "outputs": [
    {
     "data": {
      "text/html": [
       "<div>\n",
       "<style scoped>\n",
       "    .dataframe tbody tr th:only-of-type {\n",
       "        vertical-align: middle;\n",
       "    }\n",
       "\n",
       "    .dataframe tbody tr th {\n",
       "        vertical-align: top;\n",
       "    }\n",
       "\n",
       "    .dataframe thead th {\n",
       "        text-align: right;\n",
       "    }\n",
       "</style>\n",
       "<table border=\"1\" class=\"dataframe\">\n",
       "  <thead>\n",
       "    <tr style=\"text-align: right;\">\n",
       "      <th></th>\n",
       "      <th>MaritalStatus</th>\n",
       "    </tr>\n",
       "  </thead>\n",
       "  <tbody>\n",
       "    <tr>\n",
       "      <th>Married (including common law)</th>\n",
       "      <td>2643</td>\n",
       "    </tr>\n",
       "    <tr>\n",
       "      <th>Single (never married)</th>\n",
       "      <td>615</td>\n",
       "    </tr>\n",
       "    <tr>\n",
       "      <th>Divorced</th>\n",
       "      <td>486</td>\n",
       "    </tr>\n",
       "    <tr>\n",
       "      <th>Widowed</th>\n",
       "      <td>235</td>\n",
       "    </tr>\n",
       "    <tr>\n",
       "      <th>Separated</th>\n",
       "      <td>45</td>\n",
       "    </tr>\n",
       "  </tbody>\n",
       "</table>\n",
       "</div>"
      ],
      "text/plain": [
       "                                MaritalStatus\n",
       "Married (including common law)           2643\n",
       "Single (never married)                    615\n",
       "Divorced                                  486\n",
       "Widowed                                   235\n",
       "Separated                                  45"
      ]
     },
     "execution_count": 13,
     "metadata": {},
     "output_type": "execute_result"
    }
   ],
   "source": [
    "pd.DataFrame(df.MaritalStatus.value_counts())"
   ]
  },
  {
   "cell_type": "markdown",
   "id": "5db8b269-1f99-4abf-8b5d-8e450bd283cc",
   "metadata": {},
   "source": [
    "#### T-Stage"
   ]
  },
  {
   "cell_type": "markdown",
   "id": "61bd7c1b-b937-416a-9355-201b342177c3",
   "metadata": {},
   "source": [
    "[Index](#Index)"
   ]
  },
  {
   "cell_type": "code",
   "execution_count": 14,
   "id": "091be984-252a-48eb-b28b-b223de9b4a8b",
   "metadata": {},
   "outputs": [
    {
     "data": {
      "text/html": [
       "<div>\n",
       "<style scoped>\n",
       "    .dataframe tbody tr th:only-of-type {\n",
       "        vertical-align: middle;\n",
       "    }\n",
       "\n",
       "    .dataframe tbody tr th {\n",
       "        vertical-align: top;\n",
       "    }\n",
       "\n",
       "    .dataframe thead th {\n",
       "        text-align: right;\n",
       "    }\n",
       "</style>\n",
       "<table border=\"1\" class=\"dataframe\">\n",
       "  <thead>\n",
       "    <tr style=\"text-align: right;\">\n",
       "      <th></th>\n",
       "      <th>TStage</th>\n",
       "    </tr>\n",
       "  </thead>\n",
       "  <tbody>\n",
       "    <tr>\n",
       "      <th>count</th>\n",
       "      <td>4024</td>\n",
       "    </tr>\n",
       "    <tr>\n",
       "      <th>unique</th>\n",
       "      <td>4</td>\n",
       "    </tr>\n",
       "    <tr>\n",
       "      <th>top</th>\n",
       "      <td>T2</td>\n",
       "    </tr>\n",
       "    <tr>\n",
       "      <th>freq</th>\n",
       "      <td>1786</td>\n",
       "    </tr>\n",
       "  </tbody>\n",
       "</table>\n",
       "</div>"
      ],
      "text/plain": [
       "       TStage\n",
       "count    4024\n",
       "unique      4\n",
       "top        T2\n",
       "freq     1786"
      ]
     },
     "execution_count": 14,
     "metadata": {},
     "output_type": "execute_result"
    }
   ],
   "source": [
    "pd.DataFrame(df.TStage.describe())"
   ]
  },
  {
   "cell_type": "code",
   "execution_count": 15,
   "id": "3b4d5e61-4e6c-44bc-b1b6-aadcb4886921",
   "metadata": {},
   "outputs": [
    {
     "data": {
      "text/html": [
       "<div>\n",
       "<style scoped>\n",
       "    .dataframe tbody tr th:only-of-type {\n",
       "        vertical-align: middle;\n",
       "    }\n",
       "\n",
       "    .dataframe tbody tr th {\n",
       "        vertical-align: top;\n",
       "    }\n",
       "\n",
       "    .dataframe thead th {\n",
       "        text-align: right;\n",
       "    }\n",
       "</style>\n",
       "<table border=\"1\" class=\"dataframe\">\n",
       "  <thead>\n",
       "    <tr style=\"text-align: right;\">\n",
       "      <th></th>\n",
       "      <th>TStage</th>\n",
       "    </tr>\n",
       "  </thead>\n",
       "  <tbody>\n",
       "    <tr>\n",
       "      <th>T2</th>\n",
       "      <td>1786</td>\n",
       "    </tr>\n",
       "    <tr>\n",
       "      <th>T1</th>\n",
       "      <td>1603</td>\n",
       "    </tr>\n",
       "    <tr>\n",
       "      <th>T3</th>\n",
       "      <td>533</td>\n",
       "    </tr>\n",
       "    <tr>\n",
       "      <th>T4</th>\n",
       "      <td>102</td>\n",
       "    </tr>\n",
       "  </tbody>\n",
       "</table>\n",
       "</div>"
      ],
      "text/plain": [
       "    TStage\n",
       "T2    1786\n",
       "T1    1603\n",
       "T3     533\n",
       "T4     102"
      ]
     },
     "execution_count": 15,
     "metadata": {},
     "output_type": "execute_result"
    }
   ],
   "source": [
    "pd.DataFrame(df.TStage.value_counts())"
   ]
  },
  {
   "cell_type": "markdown",
   "id": "fb82fcf3-1e07-4de5-89d5-e43f6ff526e2",
   "metadata": {},
   "source": [
    "#### N-Stage"
   ]
  },
  {
   "cell_type": "markdown",
   "id": "c36a8472-6acd-4f8d-b6b9-3589869768a0",
   "metadata": {},
   "source": [
    "[Index](#Index)"
   ]
  },
  {
   "cell_type": "code",
   "execution_count": 16,
   "id": "57ef55d5-4af6-4a61-8870-f8321ccf3ec4",
   "metadata": {},
   "outputs": [
    {
     "data": {
      "text/html": [
       "<div>\n",
       "<style scoped>\n",
       "    .dataframe tbody tr th:only-of-type {\n",
       "        vertical-align: middle;\n",
       "    }\n",
       "\n",
       "    .dataframe tbody tr th {\n",
       "        vertical-align: top;\n",
       "    }\n",
       "\n",
       "    .dataframe thead th {\n",
       "        text-align: right;\n",
       "    }\n",
       "</style>\n",
       "<table border=\"1\" class=\"dataframe\">\n",
       "  <thead>\n",
       "    <tr style=\"text-align: right;\">\n",
       "      <th></th>\n",
       "      <th>NStage</th>\n",
       "    </tr>\n",
       "  </thead>\n",
       "  <tbody>\n",
       "    <tr>\n",
       "      <th>count</th>\n",
       "      <td>4024</td>\n",
       "    </tr>\n",
       "    <tr>\n",
       "      <th>unique</th>\n",
       "      <td>3</td>\n",
       "    </tr>\n",
       "    <tr>\n",
       "      <th>top</th>\n",
       "      <td>N1</td>\n",
       "    </tr>\n",
       "    <tr>\n",
       "      <th>freq</th>\n",
       "      <td>2732</td>\n",
       "    </tr>\n",
       "  </tbody>\n",
       "</table>\n",
       "</div>"
      ],
      "text/plain": [
       "       NStage\n",
       "count    4024\n",
       "unique      3\n",
       "top        N1\n",
       "freq     2732"
      ]
     },
     "execution_count": 16,
     "metadata": {},
     "output_type": "execute_result"
    }
   ],
   "source": [
    "pd.DataFrame(df.NStage.describe())"
   ]
  },
  {
   "cell_type": "code",
   "execution_count": 17,
   "id": "81ac0e2c-196c-4322-ac96-10c627bb40c4",
   "metadata": {},
   "outputs": [
    {
     "data": {
      "text/html": [
       "<div>\n",
       "<style scoped>\n",
       "    .dataframe tbody tr th:only-of-type {\n",
       "        vertical-align: middle;\n",
       "    }\n",
       "\n",
       "    .dataframe tbody tr th {\n",
       "        vertical-align: top;\n",
       "    }\n",
       "\n",
       "    .dataframe thead th {\n",
       "        text-align: right;\n",
       "    }\n",
       "</style>\n",
       "<table border=\"1\" class=\"dataframe\">\n",
       "  <thead>\n",
       "    <tr style=\"text-align: right;\">\n",
       "      <th></th>\n",
       "      <th>NStage</th>\n",
       "    </tr>\n",
       "  </thead>\n",
       "  <tbody>\n",
       "    <tr>\n",
       "      <th>N1</th>\n",
       "      <td>2732</td>\n",
       "    </tr>\n",
       "    <tr>\n",
       "      <th>N2</th>\n",
       "      <td>820</td>\n",
       "    </tr>\n",
       "    <tr>\n",
       "      <th>N3</th>\n",
       "      <td>472</td>\n",
       "    </tr>\n",
       "  </tbody>\n",
       "</table>\n",
       "</div>"
      ],
      "text/plain": [
       "    NStage\n",
       "N1    2732\n",
       "N2     820\n",
       "N3     472"
      ]
     },
     "execution_count": 17,
     "metadata": {},
     "output_type": "execute_result"
    }
   ],
   "source": [
    "pd.DataFrame(df.NStage.value_counts())"
   ]
  },
  {
   "cell_type": "markdown",
   "id": "9cfad45b-b4bc-4dab-a8fd-a5000d9cf5a8",
   "metadata": {},
   "source": [
    "#### 6th Stage"
   ]
  },
  {
   "cell_type": "markdown",
   "id": "5b136389-8023-4811-b5cb-e6af746e06bb",
   "metadata": {},
   "source": [
    "[Index](#Index)"
   ]
  },
  {
   "cell_type": "code",
   "execution_count": 18,
   "id": "04026988-374e-4391-9356-2fb00b5e8454",
   "metadata": {},
   "outputs": [
    {
     "data": {
      "text/html": [
       "<div>\n",
       "<style scoped>\n",
       "    .dataframe tbody tr th:only-of-type {\n",
       "        vertical-align: middle;\n",
       "    }\n",
       "\n",
       "    .dataframe tbody tr th {\n",
       "        vertical-align: top;\n",
       "    }\n",
       "\n",
       "    .dataframe thead th {\n",
       "        text-align: right;\n",
       "    }\n",
       "</style>\n",
       "<table border=\"1\" class=\"dataframe\">\n",
       "  <thead>\n",
       "    <tr style=\"text-align: right;\">\n",
       "      <th></th>\n",
       "      <th>6thStage</th>\n",
       "    </tr>\n",
       "  </thead>\n",
       "  <tbody>\n",
       "    <tr>\n",
       "      <th>count</th>\n",
       "      <td>4024</td>\n",
       "    </tr>\n",
       "    <tr>\n",
       "      <th>unique</th>\n",
       "      <td>5</td>\n",
       "    </tr>\n",
       "    <tr>\n",
       "      <th>top</th>\n",
       "      <td>IIA</td>\n",
       "    </tr>\n",
       "    <tr>\n",
       "      <th>freq</th>\n",
       "      <td>1305</td>\n",
       "    </tr>\n",
       "  </tbody>\n",
       "</table>\n",
       "</div>"
      ],
      "text/plain": [
       "       6thStage\n",
       "count      4024\n",
       "unique        5\n",
       "top         IIA\n",
       "freq       1305"
      ]
     },
     "execution_count": 18,
     "metadata": {},
     "output_type": "execute_result"
    }
   ],
   "source": [
    "pd.DataFrame(df['6thStage'].describe())"
   ]
  },
  {
   "cell_type": "code",
   "execution_count": 19,
   "id": "868e5e44-1193-4fba-a1cb-0f10386e358e",
   "metadata": {},
   "outputs": [
    {
     "data": {
      "text/html": [
       "<div>\n",
       "<style scoped>\n",
       "    .dataframe tbody tr th:only-of-type {\n",
       "        vertical-align: middle;\n",
       "    }\n",
       "\n",
       "    .dataframe tbody tr th {\n",
       "        vertical-align: top;\n",
       "    }\n",
       "\n",
       "    .dataframe thead th {\n",
       "        text-align: right;\n",
       "    }\n",
       "</style>\n",
       "<table border=\"1\" class=\"dataframe\">\n",
       "  <thead>\n",
       "    <tr style=\"text-align: right;\">\n",
       "      <th></th>\n",
       "      <th>6thStage</th>\n",
       "    </tr>\n",
       "  </thead>\n",
       "  <tbody>\n",
       "    <tr>\n",
       "      <th>IIA</th>\n",
       "      <td>1305</td>\n",
       "    </tr>\n",
       "    <tr>\n",
       "      <th>IIB</th>\n",
       "      <td>1130</td>\n",
       "    </tr>\n",
       "    <tr>\n",
       "      <th>IIIA</th>\n",
       "      <td>1050</td>\n",
       "    </tr>\n",
       "    <tr>\n",
       "      <th>IIIC</th>\n",
       "      <td>472</td>\n",
       "    </tr>\n",
       "    <tr>\n",
       "      <th>IIIB</th>\n",
       "      <td>67</td>\n",
       "    </tr>\n",
       "  </tbody>\n",
       "</table>\n",
       "</div>"
      ],
      "text/plain": [
       "      6thStage\n",
       "IIA       1305\n",
       "IIB       1130\n",
       "IIIA      1050\n",
       "IIIC       472\n",
       "IIIB        67"
      ]
     },
     "execution_count": 19,
     "metadata": {},
     "output_type": "execute_result"
    }
   ],
   "source": [
    "pd.DataFrame(df['6thStage'].value_counts())"
   ]
  },
  {
   "cell_type": "markdown",
   "id": "0b26da1a-6963-4878-85b2-b96a73e89ff4",
   "metadata": {},
   "source": [
    "#### Grade"
   ]
  },
  {
   "cell_type": "markdown",
   "id": "f83fd7c0-62d0-4bff-9799-fab4fba1e361",
   "metadata": {},
   "source": [
    "[Index](#Index)"
   ]
  },
  {
   "cell_type": "code",
   "execution_count": 20,
   "id": "711183fd-0bb2-4e58-8187-a62b0b90973b",
   "metadata": {},
   "outputs": [
    {
     "data": {
      "text/html": [
       "<div>\n",
       "<style scoped>\n",
       "    .dataframe tbody tr th:only-of-type {\n",
       "        vertical-align: middle;\n",
       "    }\n",
       "\n",
       "    .dataframe tbody tr th {\n",
       "        vertical-align: top;\n",
       "    }\n",
       "\n",
       "    .dataframe thead th {\n",
       "        text-align: right;\n",
       "    }\n",
       "</style>\n",
       "<table border=\"1\" class=\"dataframe\">\n",
       "  <thead>\n",
       "    <tr style=\"text-align: right;\">\n",
       "      <th></th>\n",
       "      <th>Grade</th>\n",
       "    </tr>\n",
       "  </thead>\n",
       "  <tbody>\n",
       "    <tr>\n",
       "      <th>count</th>\n",
       "      <td>4024</td>\n",
       "    </tr>\n",
       "    <tr>\n",
       "      <th>unique</th>\n",
       "      <td>4</td>\n",
       "    </tr>\n",
       "    <tr>\n",
       "      <th>top</th>\n",
       "      <td>Moderately differentiated; Grade II</td>\n",
       "    </tr>\n",
       "    <tr>\n",
       "      <th>freq</th>\n",
       "      <td>2351</td>\n",
       "    </tr>\n",
       "  </tbody>\n",
       "</table>\n",
       "</div>"
      ],
      "text/plain": [
       "                                      Grade\n",
       "count                                  4024\n",
       "unique                                    4\n",
       "top     Moderately differentiated; Grade II\n",
       "freq                                   2351"
      ]
     },
     "execution_count": 20,
     "metadata": {},
     "output_type": "execute_result"
    }
   ],
   "source": [
    "pd.DataFrame(df.Grade.describe())"
   ]
  },
  {
   "cell_type": "code",
   "execution_count": 21,
   "id": "fd091f02-54ef-40b7-bc97-9f2ff5e5a0f5",
   "metadata": {},
   "outputs": [
    {
     "data": {
      "text/html": [
       "<div>\n",
       "<style scoped>\n",
       "    .dataframe tbody tr th:only-of-type {\n",
       "        vertical-align: middle;\n",
       "    }\n",
       "\n",
       "    .dataframe tbody tr th {\n",
       "        vertical-align: top;\n",
       "    }\n",
       "\n",
       "    .dataframe thead th {\n",
       "        text-align: right;\n",
       "    }\n",
       "</style>\n",
       "<table border=\"1\" class=\"dataframe\">\n",
       "  <thead>\n",
       "    <tr style=\"text-align: right;\">\n",
       "      <th></th>\n",
       "      <th>Grade</th>\n",
       "    </tr>\n",
       "  </thead>\n",
       "  <tbody>\n",
       "    <tr>\n",
       "      <th>Moderately differentiated; Grade II</th>\n",
       "      <td>2351</td>\n",
       "    </tr>\n",
       "    <tr>\n",
       "      <th>Poorly differentiated; Grade III</th>\n",
       "      <td>1111</td>\n",
       "    </tr>\n",
       "    <tr>\n",
       "      <th>Well differentiated; Grade I</th>\n",
       "      <td>543</td>\n",
       "    </tr>\n",
       "    <tr>\n",
       "      <th>Undifferentiated; anaplastic; Grade IV</th>\n",
       "      <td>19</td>\n",
       "    </tr>\n",
       "  </tbody>\n",
       "</table>\n",
       "</div>"
      ],
      "text/plain": [
       "                                        Grade\n",
       "Moderately differentiated; Grade II      2351\n",
       "Poorly differentiated; Grade III         1111\n",
       "Well differentiated; Grade I              543\n",
       "Undifferentiated; anaplastic; Grade IV     19"
      ]
     },
     "execution_count": 21,
     "metadata": {},
     "output_type": "execute_result"
    }
   ],
   "source": [
    "pd.DataFrame(df.Grade.value_counts())"
   ]
  },
  {
   "cell_type": "markdown",
   "id": "8cd3d489-aece-4c0d-8cf9-6d5a6290e641",
   "metadata": {},
   "source": [
    "#### A-Stage"
   ]
  },
  {
   "cell_type": "markdown",
   "id": "3897d2ea-7f64-46f7-b939-f79e55205bb4",
   "metadata": {},
   "source": [
    "[Index](#Index)"
   ]
  },
  {
   "cell_type": "code",
   "execution_count": 22,
   "id": "f78fb69f-0082-487f-963c-346cc6116aa4",
   "metadata": {},
   "outputs": [
    {
     "data": {
      "text/html": [
       "<div>\n",
       "<style scoped>\n",
       "    .dataframe tbody tr th:only-of-type {\n",
       "        vertical-align: middle;\n",
       "    }\n",
       "\n",
       "    .dataframe tbody tr th {\n",
       "        vertical-align: top;\n",
       "    }\n",
       "\n",
       "    .dataframe thead th {\n",
       "        text-align: right;\n",
       "    }\n",
       "</style>\n",
       "<table border=\"1\" class=\"dataframe\">\n",
       "  <thead>\n",
       "    <tr style=\"text-align: right;\">\n",
       "      <th></th>\n",
       "      <th>AStage</th>\n",
       "    </tr>\n",
       "  </thead>\n",
       "  <tbody>\n",
       "    <tr>\n",
       "      <th>count</th>\n",
       "      <td>4024</td>\n",
       "    </tr>\n",
       "    <tr>\n",
       "      <th>unique</th>\n",
       "      <td>2</td>\n",
       "    </tr>\n",
       "    <tr>\n",
       "      <th>top</th>\n",
       "      <td>Regional</td>\n",
       "    </tr>\n",
       "    <tr>\n",
       "      <th>freq</th>\n",
       "      <td>3932</td>\n",
       "    </tr>\n",
       "  </tbody>\n",
       "</table>\n",
       "</div>"
      ],
      "text/plain": [
       "          AStage\n",
       "count       4024\n",
       "unique         2\n",
       "top     Regional\n",
       "freq        3932"
      ]
     },
     "execution_count": 22,
     "metadata": {},
     "output_type": "execute_result"
    }
   ],
   "source": [
    "pd.DataFrame(df.AStage.describe())"
   ]
  },
  {
   "cell_type": "code",
   "execution_count": 23,
   "id": "ec35b892-627f-4a51-a4e6-d2dfd7e7ca7c",
   "metadata": {},
   "outputs": [
    {
     "data": {
      "text/html": [
       "<div>\n",
       "<style scoped>\n",
       "    .dataframe tbody tr th:only-of-type {\n",
       "        vertical-align: middle;\n",
       "    }\n",
       "\n",
       "    .dataframe tbody tr th {\n",
       "        vertical-align: top;\n",
       "    }\n",
       "\n",
       "    .dataframe thead th {\n",
       "        text-align: right;\n",
       "    }\n",
       "</style>\n",
       "<table border=\"1\" class=\"dataframe\">\n",
       "  <thead>\n",
       "    <tr style=\"text-align: right;\">\n",
       "      <th></th>\n",
       "      <th>AStage</th>\n",
       "    </tr>\n",
       "  </thead>\n",
       "  <tbody>\n",
       "    <tr>\n",
       "      <th>Regional</th>\n",
       "      <td>3932</td>\n",
       "    </tr>\n",
       "    <tr>\n",
       "      <th>Distant</th>\n",
       "      <td>92</td>\n",
       "    </tr>\n",
       "  </tbody>\n",
       "</table>\n",
       "</div>"
      ],
      "text/plain": [
       "          AStage\n",
       "Regional    3932\n",
       "Distant       92"
      ]
     },
     "execution_count": 23,
     "metadata": {},
     "output_type": "execute_result"
    }
   ],
   "source": [
    "pd.DataFrame(df.AStage.value_counts())"
   ]
  },
  {
   "cell_type": "markdown",
   "id": "00a8ee4e-2fef-452e-b25a-4081ff2c3736",
   "metadata": {},
   "source": [
    "#### Tumor Size"
   ]
  },
  {
   "cell_type": "markdown",
   "id": "aad1a3db-243d-4a22-9a22-0826696ed36b",
   "metadata": {},
   "source": [
    "[Index](#Index)"
   ]
  },
  {
   "cell_type": "code",
   "execution_count": 24,
   "id": "9103a9a1-6faa-4b06-9557-d17acdb73ffa",
   "metadata": {},
   "outputs": [
    {
     "data": {
      "text/html": [
       "<div>\n",
       "<style scoped>\n",
       "    .dataframe tbody tr th:only-of-type {\n",
       "        vertical-align: middle;\n",
       "    }\n",
       "\n",
       "    .dataframe tbody tr th {\n",
       "        vertical-align: top;\n",
       "    }\n",
       "\n",
       "    .dataframe thead th {\n",
       "        text-align: right;\n",
       "    }\n",
       "</style>\n",
       "<table border=\"1\" class=\"dataframe\">\n",
       "  <thead>\n",
       "    <tr style=\"text-align: right;\">\n",
       "      <th></th>\n",
       "      <th>TumorSize</th>\n",
       "    </tr>\n",
       "  </thead>\n",
       "  <tbody>\n",
       "    <tr>\n",
       "      <th>count</th>\n",
       "      <td>4024.000000</td>\n",
       "    </tr>\n",
       "    <tr>\n",
       "      <th>mean</th>\n",
       "      <td>30.473658</td>\n",
       "    </tr>\n",
       "    <tr>\n",
       "      <th>std</th>\n",
       "      <td>21.119696</td>\n",
       "    </tr>\n",
       "    <tr>\n",
       "      <th>min</th>\n",
       "      <td>1.000000</td>\n",
       "    </tr>\n",
       "    <tr>\n",
       "      <th>25%</th>\n",
       "      <td>16.000000</td>\n",
       "    </tr>\n",
       "    <tr>\n",
       "      <th>50%</th>\n",
       "      <td>25.000000</td>\n",
       "    </tr>\n",
       "    <tr>\n",
       "      <th>75%</th>\n",
       "      <td>38.000000</td>\n",
       "    </tr>\n",
       "    <tr>\n",
       "      <th>max</th>\n",
       "      <td>140.000000</td>\n",
       "    </tr>\n",
       "  </tbody>\n",
       "</table>\n",
       "</div>"
      ],
      "text/plain": [
       "         TumorSize\n",
       "count  4024.000000\n",
       "mean     30.473658\n",
       "std      21.119696\n",
       "min       1.000000\n",
       "25%      16.000000\n",
       "50%      25.000000\n",
       "75%      38.000000\n",
       "max     140.000000"
      ]
     },
     "execution_count": 24,
     "metadata": {},
     "output_type": "execute_result"
    }
   ],
   "source": [
    "pd.DataFrame(df.TumorSize.describe())"
   ]
  },
  {
   "cell_type": "code",
   "execution_count": 25,
   "id": "22161ab0-1306-42f4-85b7-fc6aa504748b",
   "metadata": {},
   "outputs": [
    {
     "data": {
      "image/png": "[encoded data removed]",
      "text/plain": [
       "<Figure size 1000x600 with 1 Axes>"
      ]
     },
     "metadata": {},
     "output_type": "display_data"
    }
   ],
   "source": [
    "figure = plt.figure(figsize=(10, 6))\n",
    "\n",
    "axes = figure.add_subplot(1, 1, 1)\n",
    "axes.hist(df.TumorSize, color=\"darkslategray\")\n",
    "axes.set_title(\"Tumor Size distribution\")\n",
    "axes.set_xlabel(\"Tumor Size (mm)\")\n",
    "\n",
    "plt.show()\n",
    "plt.close()"
   ]
  },
  {
   "cell_type": "markdown",
   "id": "d95f64cf-777a-4448-aca0-5e12b8be6666",
   "metadata": {},
   "source": [
    "#### Estrogen Status"
   ]
  },
  {
   "cell_type": "markdown",
   "id": "2008f215-e0f1-490b-9389-fc52c1d4a604",
   "metadata": {},
   "source": [
    "[Index](#Index)"
   ]
  },
  {
   "cell_type": "code",
   "execution_count": 26,
   "id": "20d5d7f4-c7d7-42ee-a5fc-8167a1b08bbf",
   "metadata": {},
   "outputs": [
    {
     "data": {
      "text/html": [
       "<div>\n",
       "<style scoped>\n",
       "    .dataframe tbody tr th:only-of-type {\n",
       "        vertical-align: middle;\n",
       "    }\n",
       "\n",
       "    .dataframe tbody tr th {\n",
       "        vertical-align: top;\n",
       "    }\n",
       "\n",
       "    .dataframe thead th {\n",
       "        text-align: right;\n",
       "    }\n",
       "</style>\n",
       "<table border=\"1\" class=\"dataframe\">\n",
       "  <thead>\n",
       "    <tr style=\"text-align: right;\">\n",
       "      <th></th>\n",
       "      <th>EstrogenStatus</th>\n",
       "    </tr>\n",
       "  </thead>\n",
       "  <tbody>\n",
       "    <tr>\n",
       "      <th>count</th>\n",
       "      <td>4024</td>\n",
       "    </tr>\n",
       "    <tr>\n",
       "      <th>unique</th>\n",
       "      <td>2</td>\n",
       "    </tr>\n",
       "    <tr>\n",
       "      <th>top</th>\n",
       "      <td>Positive</td>\n",
       "    </tr>\n",
       "    <tr>\n",
       "      <th>freq</th>\n",
       "      <td>3755</td>\n",
       "    </tr>\n",
       "  </tbody>\n",
       "</table>\n",
       "</div>"
      ],
      "text/plain": [
       "       EstrogenStatus\n",
       "count            4024\n",
       "unique              2\n",
       "top          Positive\n",
       "freq             3755"
      ]
     },
     "execution_count": 26,
     "metadata": {},
     "output_type": "execute_result"
    }
   ],
   "source": [
    "pd.DataFrame(df.EstrogenStatus.describe())"
   ]
  },
  {
   "cell_type": "code",
   "execution_count": 27,
   "id": "07511df5-d1eb-427b-8747-9c72748e1791",
   "metadata": {},
   "outputs": [
    {
     "data": {
      "text/html": [
       "<div>\n",
       "<style scoped>\n",
       "    .dataframe tbody tr th:only-of-type {\n",
       "        vertical-align: middle;\n",
       "    }\n",
       "\n",
       "    .dataframe tbody tr th {\n",
       "        vertical-align: top;\n",
       "    }\n",
       "\n",
       "    .dataframe thead th {\n",
       "        text-align: right;\n",
       "    }\n",
       "</style>\n",
       "<table border=\"1\" class=\"dataframe\">\n",
       "  <thead>\n",
       "    <tr style=\"text-align: right;\">\n",
       "      <th></th>\n",
       "      <th>EstrogenStatus</th>\n",
       "    </tr>\n",
       "  </thead>\n",
       "  <tbody>\n",
       "    <tr>\n",
       "      <th>Positive</th>\n",
       "      <td>3755</td>\n",
       "    </tr>\n",
       "    <tr>\n",
       "      <th>Negative</th>\n",
       "      <td>269</td>\n",
       "    </tr>\n",
       "  </tbody>\n",
       "</table>\n",
       "</div>"
      ],
      "text/plain": [
       "          EstrogenStatus\n",
       "Positive            3755\n",
       "Negative             269"
      ]
     },
     "execution_count": 27,
     "metadata": {},
     "output_type": "execute_result"
    }
   ],
   "source": [
    "pd.DataFrame(df.EstrogenStatus.value_counts())"
   ]
  },
  {
   "cell_type": "markdown",
   "id": "802af2fa-d04a-4a0e-92ae-b7ca65e55c00",
   "metadata": {},
   "source": [
    "#### Progesterone Status"
   ]
  },
  {
   "cell_type": "markdown",
   "id": "7652ae04-c39a-4008-9db1-d800b702ab23",
   "metadata": {},
   "source": [
    "[Index](#Index)"
   ]
  },
  {
   "cell_type": "code",
   "execution_count": 28,
   "id": "0a88d8c2-637d-4aa8-9c30-0884bc7d712e",
   "metadata": {},
   "outputs": [
    {
     "data": {
      "text/html": [
       "<div>\n",
       "<style scoped>\n",
       "    .dataframe tbody tr th:only-of-type {\n",
       "        vertical-align: middle;\n",
       "    }\n",
       "\n",
       "    .dataframe tbody tr th {\n",
       "        vertical-align: top;\n",
       "    }\n",
       "\n",
       "    .dataframe thead th {\n",
       "        text-align: right;\n",
       "    }\n",
       "</style>\n",
       "<table border=\"1\" class=\"dataframe\">\n",
       "  <thead>\n",
       "    <tr style=\"text-align: right;\">\n",
       "      <th></th>\n",
       "      <th>ProgesteroneStatus</th>\n",
       "    </tr>\n",
       "  </thead>\n",
       "  <tbody>\n",
       "    <tr>\n",
       "      <th>count</th>\n",
       "      <td>4024</td>\n",
       "    </tr>\n",
       "    <tr>\n",
       "      <th>unique</th>\n",
       "      <td>2</td>\n",
       "    </tr>\n",
       "    <tr>\n",
       "      <th>top</th>\n",
       "      <td>Positive</td>\n",
       "    </tr>\n",
       "    <tr>\n",
       "      <th>freq</th>\n",
       "      <td>3326</td>\n",
       "    </tr>\n",
       "  </tbody>\n",
       "</table>\n",
       "</div>"
      ],
      "text/plain": [
       "       ProgesteroneStatus\n",
       "count                4024\n",
       "unique                  2\n",
       "top              Positive\n",
       "freq                 3326"
      ]
     },
     "execution_count": 28,
     "metadata": {},
     "output_type": "execute_result"
    }
   ],
   "source": [
    "pd.DataFrame(df.ProgesteroneStatus.describe())"
   ]
  },
  {
   "cell_type": "code",
   "execution_count": 29,
   "id": "067a17ba-8f75-45e7-8a0e-128439e59842",
   "metadata": {},
   "outputs": [
    {
     "data": {
      "text/html": [
       "<div>\n",
       "<style scoped>\n",
       "    .dataframe tbody tr th:only-of-type {\n",
       "        vertical-align: middle;\n",
       "    }\n",
       "\n",
       "    .dataframe tbody tr th {\n",
       "        vertical-align: top;\n",
       "    }\n",
       "\n",
       "    .dataframe thead th {\n",
       "        text-align: right;\n",
       "    }\n",
       "</style>\n",
       "<table border=\"1\" class=\"dataframe\">\n",
       "  <thead>\n",
       "    <tr style=\"text-align: right;\">\n",
       "      <th></th>\n",
       "      <th>ProgesteroneStatus</th>\n",
       "    </tr>\n",
       "  </thead>\n",
       "  <tbody>\n",
       "    <tr>\n",
       "      <th>Positive</th>\n",
       "      <td>3326</td>\n",
       "    </tr>\n",
       "    <tr>\n",
       "      <th>Negative</th>\n",
       "      <td>698</td>\n",
       "    </tr>\n",
       "  </tbody>\n",
       "</table>\n",
       "</div>"
      ],
      "text/plain": [
       "          ProgesteroneStatus\n",
       "Positive                3326\n",
       "Negative                 698"
      ]
     },
     "execution_count": 29,
     "metadata": {},
     "output_type": "execute_result"
    }
   ],
   "source": [
    "pd.DataFrame(df.ProgesteroneStatus.value_counts())"
   ]
  },
  {
   "cell_type": "markdown",
   "id": "9dccaa47-5435-4bcf-a585-7f391e292d93",
   "metadata": {},
   "source": [
    "#### Regional Node Examined"
   ]
  },
  {
   "cell_type": "markdown",
   "id": "9f12564a-4046-43d7-a815-d0f9d74dc119",
   "metadata": {},
   "source": [
    "[Index](#Index)"
   ]
  },
  {
   "cell_type": "code",
   "execution_count": 30,
   "id": "d2af3111-0d1d-4327-8ade-8e084d007f9b",
   "metadata": {},
   "outputs": [
    {
     "data": {
      "text/html": [
       "<div>\n",
       "<style scoped>\n",
       "    .dataframe tbody tr th:only-of-type {\n",
       "        vertical-align: middle;\n",
       "    }\n",
       "\n",
       "    .dataframe tbody tr th {\n",
       "        vertical-align: top;\n",
       "    }\n",
       "\n",
       "    .dataframe thead th {\n",
       "        text-align: right;\n",
       "    }\n",
       "</style>\n",
       "<table border=\"1\" class=\"dataframe\">\n",
       "  <thead>\n",
       "    <tr style=\"text-align: right;\">\n",
       "      <th></th>\n",
       "      <th>RegionalNodeExamined</th>\n",
       "    </tr>\n",
       "  </thead>\n",
       "  <tbody>\n",
       "    <tr>\n",
       "      <th>count</th>\n",
       "      <td>4024.000000</td>\n",
       "    </tr>\n",
       "    <tr>\n",
       "      <th>mean</th>\n",
       "      <td>14.357107</td>\n",
       "    </tr>\n",
       "    <tr>\n",
       "      <th>std</th>\n",
       "      <td>8.099675</td>\n",
       "    </tr>\n",
       "    <tr>\n",
       "      <th>min</th>\n",
       "      <td>1.000000</td>\n",
       "    </tr>\n",
       "    <tr>\n",
       "      <th>25%</th>\n",
       "      <td>9.000000</td>\n",
       "    </tr>\n",
       "    <tr>\n",
       "      <th>50%</th>\n",
       "      <td>14.000000</td>\n",
       "    </tr>\n",
       "    <tr>\n",
       "      <th>75%</th>\n",
       "      <td>19.000000</td>\n",
       "    </tr>\n",
       "    <tr>\n",
       "      <th>max</th>\n",
       "      <td>61.000000</td>\n",
       "    </tr>\n",
       "  </tbody>\n",
       "</table>\n",
       "</div>"
      ],
      "text/plain": [
       "       RegionalNodeExamined\n",
       "count           4024.000000\n",
       "mean              14.357107\n",
       "std                8.099675\n",
       "min                1.000000\n",
       "25%                9.000000\n",
       "50%               14.000000\n",
       "75%               19.000000\n",
       "max               61.000000"
      ]
     },
     "execution_count": 30,
     "metadata": {},
     "output_type": "execute_result"
    }
   ],
   "source": [
    "pd.DataFrame(df.RegionalNodeExamined.describe())"
   ]
  },
  {
   "cell_type": "code",
   "execution_count": 31,
   "id": "365debeb-30ae-456b-a856-b2fac9528536",
   "metadata": {},
   "outputs": [
    {
     "data": {
      "text/html": [
       "<div>\n",
       "<style scoped>\n",
       "    .dataframe tbody tr th:only-of-type {\n",
       "        vertical-align: middle;\n",
       "    }\n",
       "\n",
       "    .dataframe tbody tr th {\n",
       "        vertical-align: top;\n",
       "    }\n",
       "\n",
       "    .dataframe thead th {\n",
       "        text-align: right;\n",
       "    }\n",
       "</style>\n",
       "<table border=\"1\" class=\"dataframe\">\n",
       "  <thead>\n",
       "    <tr style=\"text-align: right;\">\n",
       "      <th></th>\n",
       "      <th>RegionalNodeExamined</th>\n",
       "    </tr>\n",
       "  </thead>\n",
       "  <tbody>\n",
       "    <tr>\n",
       "      <th>13</th>\n",
       "      <td>251</td>\n",
       "    </tr>\n",
       "    <tr>\n",
       "      <th>14</th>\n",
       "      <td>225</td>\n",
       "    </tr>\n",
       "    <tr>\n",
       "      <th>16</th>\n",
       "      <td>221</td>\n",
       "    </tr>\n",
       "    <tr>\n",
       "      <th>12</th>\n",
       "      <td>205</td>\n",
       "    </tr>\n",
       "    <tr>\n",
       "      <th>9</th>\n",
       "      <td>198</td>\n",
       "    </tr>\n",
       "    <tr>\n",
       "      <th>15</th>\n",
       "      <td>195</td>\n",
       "    </tr>\n",
       "    <tr>\n",
       "      <th>11</th>\n",
       "      <td>191</td>\n",
       "    </tr>\n",
       "    <tr>\n",
       "      <th>10</th>\n",
       "      <td>183</td>\n",
       "    </tr>\n",
       "    <tr>\n",
       "      <th>18</th>\n",
       "      <td>176</td>\n",
       "    </tr>\n",
       "    <tr>\n",
       "      <th>17</th>\n",
       "      <td>175</td>\n",
       "    </tr>\n",
       "    <tr>\n",
       "      <th>19</th>\n",
       "      <td>152</td>\n",
       "    </tr>\n",
       "    <tr>\n",
       "      <th>8</th>\n",
       "      <td>148</td>\n",
       "    </tr>\n",
       "    <tr>\n",
       "      <th>2</th>\n",
       "      <td>137</td>\n",
       "    </tr>\n",
       "    <tr>\n",
       "      <th>20</th>\n",
       "      <td>126</td>\n",
       "    </tr>\n",
       "    <tr>\n",
       "      <th>3</th>\n",
       "      <td>116</td>\n",
       "    </tr>\n",
       "    <tr>\n",
       "      <th>6</th>\n",
       "      <td>115</td>\n",
       "    </tr>\n",
       "    <tr>\n",
       "      <th>4</th>\n",
       "      <td>114</td>\n",
       "    </tr>\n",
       "    <tr>\n",
       "      <th>5</th>\n",
       "      <td>110</td>\n",
       "    </tr>\n",
       "    <tr>\n",
       "      <th>21</th>\n",
       "      <td>109</td>\n",
       "    </tr>\n",
       "    <tr>\n",
       "      <th>7</th>\n",
       "      <td>104</td>\n",
       "    </tr>\n",
       "    <tr>\n",
       "      <th>23</th>\n",
       "      <td>98</td>\n",
       "    </tr>\n",
       "    <tr>\n",
       "      <th>1</th>\n",
       "      <td>97</td>\n",
       "    </tr>\n",
       "    <tr>\n",
       "      <th>24</th>\n",
       "      <td>84</td>\n",
       "    </tr>\n",
       "    <tr>\n",
       "      <th>22</th>\n",
       "      <td>82</td>\n",
       "    </tr>\n",
       "    <tr>\n",
       "      <th>26</th>\n",
       "      <td>64</td>\n",
       "    </tr>\n",
       "    <tr>\n",
       "      <th>25</th>\n",
       "      <td>58</td>\n",
       "    </tr>\n",
       "    <tr>\n",
       "      <th>27</th>\n",
       "      <td>49</td>\n",
       "    </tr>\n",
       "    <tr>\n",
       "      <th>28</th>\n",
       "      <td>45</td>\n",
       "    </tr>\n",
       "    <tr>\n",
       "      <th>29</th>\n",
       "      <td>34</td>\n",
       "    </tr>\n",
       "    <tr>\n",
       "      <th>30</th>\n",
       "      <td>27</td>\n",
       "    </tr>\n",
       "    <tr>\n",
       "      <th>32</th>\n",
       "      <td>22</td>\n",
       "    </tr>\n",
       "    <tr>\n",
       "      <th>31</th>\n",
       "      <td>20</td>\n",
       "    </tr>\n",
       "    <tr>\n",
       "      <th>33</th>\n",
       "      <td>13</td>\n",
       "    </tr>\n",
       "    <tr>\n",
       "      <th>35</th>\n",
       "      <td>10</td>\n",
       "    </tr>\n",
       "    <tr>\n",
       "      <th>36</th>\n",
       "      <td>9</td>\n",
       "    </tr>\n",
       "    <tr>\n",
       "      <th>34</th>\n",
       "      <td>8</td>\n",
       "    </tr>\n",
       "    <tr>\n",
       "      <th>37</th>\n",
       "      <td>8</td>\n",
       "    </tr>\n",
       "    <tr>\n",
       "      <th>47</th>\n",
       "      <td>6</td>\n",
       "    </tr>\n",
       "    <tr>\n",
       "      <th>41</th>\n",
       "      <td>6</td>\n",
       "    </tr>\n",
       "    <tr>\n",
       "      <th>39</th>\n",
       "      <td>6</td>\n",
       "    </tr>\n",
       "    <tr>\n",
       "      <th>40</th>\n",
       "      <td>5</td>\n",
       "    </tr>\n",
       "    <tr>\n",
       "      <th>38</th>\n",
       "      <td>4</td>\n",
       "    </tr>\n",
       "    <tr>\n",
       "      <th>43</th>\n",
       "      <td>3</td>\n",
       "    </tr>\n",
       "    <tr>\n",
       "      <th>51</th>\n",
       "      <td>3</td>\n",
       "    </tr>\n",
       "    <tr>\n",
       "      <th>42</th>\n",
       "      <td>2</td>\n",
       "    </tr>\n",
       "    <tr>\n",
       "      <th>49</th>\n",
       "      <td>2</td>\n",
       "    </tr>\n",
       "    <tr>\n",
       "      <th>57</th>\n",
       "      <td>1</td>\n",
       "    </tr>\n",
       "    <tr>\n",
       "      <th>61</th>\n",
       "      <td>1</td>\n",
       "    </tr>\n",
       "    <tr>\n",
       "      <th>60</th>\n",
       "      <td>1</td>\n",
       "    </tr>\n",
       "    <tr>\n",
       "      <th>46</th>\n",
       "      <td>1</td>\n",
       "    </tr>\n",
       "    <tr>\n",
       "      <th>54</th>\n",
       "      <td>1</td>\n",
       "    </tr>\n",
       "    <tr>\n",
       "      <th>44</th>\n",
       "      <td>1</td>\n",
       "    </tr>\n",
       "    <tr>\n",
       "      <th>45</th>\n",
       "      <td>1</td>\n",
       "    </tr>\n",
       "    <tr>\n",
       "      <th>52</th>\n",
       "      <td>1</td>\n",
       "    </tr>\n",
       "  </tbody>\n",
       "</table>\n",
       "</div>"
      ],
      "text/plain": [
       "    RegionalNodeExamined\n",
       "13                   251\n",
       "14                   225\n",
       "16                   221\n",
       "12                   205\n",
       "9                    198\n",
       "15                   195\n",
       "11                   191\n",
       "10                   183\n",
       "18                   176\n",
       "17                   175\n",
       "19                   152\n",
       "8                    148\n",
       "2                    137\n",
       "20                   126\n",
       "3                    116\n",
       "6                    115\n",
       "4                    114\n",
       "5                    110\n",
       "21                   109\n",
       "7                    104\n",
       "23                    98\n",
       "1                     97\n",
       "24                    84\n",
       "22                    82\n",
       "26                    64\n",
       "25                    58\n",
       "27                    49\n",
       "28                    45\n",
       "29                    34\n",
       "30                    27\n",
       "32                    22\n",
       "31                    20\n",
       "33                    13\n",
       "35                    10\n",
       "36                     9\n",
       "34                     8\n",
       "37                     8\n",
       "47                     6\n",
       "41                     6\n",
       "39                     6\n",
       "40                     5\n",
       "38                     4\n",
       "43                     3\n",
       "51                     3\n",
       "42                     2\n",
       "49                     2\n",
       "57                     1\n",
       "61                     1\n",
       "60                     1\n",
       "46                     1\n",
       "54                     1\n",
       "44                     1\n",
       "45                     1\n",
       "52                     1"
      ]
     },
     "execution_count": 31,
     "metadata": {},
     "output_type": "execute_result"
    }
   ],
   "source": [
    "pd.DataFrame(df.RegionalNodeExamined.value_counts())"
   ]
  },
  {
   "cell_type": "code",
   "execution_count": 32,
   "id": "2234fad3-3efd-4615-a8ed-1d3d810a1876",
   "metadata": {},
   "outputs": [
    {
     "data": {
      "image/png": "[encoded data removed]",
      "text/plain": [
       "<Figure size 1000x600 with 1 Axes>"
      ]
     },
     "metadata": {},
     "output_type": "display_data"
    }
   ],
   "source": [
    "figure = plt.figure(figsize=(10, 6))\n",
    "\n",
    "axes = figure.add_subplot(1, 1, 1)\n",
    "axes.hist(df.RegionalNodeExamined, color=\"darkslategray\")\n",
    "axes.set_title(\"Regional Node Examined distribution\")\n",
    "axes.set_xlabel(\"Total Regional Nodes Examined\")\n",
    "\n",
    "plt.show()\n",
    "plt.close()"
   ]
  },
  {
   "cell_type": "markdown",
   "id": "dc9390a2-1e68-4ee1-a64a-1ba7a3dc6160",
   "metadata": {},
   "source": [
    "#### Regional Node Positive"
   ]
  },
  {
   "cell_type": "markdown",
   "id": "8c214e62-9936-4d0b-8ec9-10b490af39a0",
   "metadata": {},
   "source": [
    "[Index](#Index)"
   ]
  },
  {
   "cell_type": "code",
   "execution_count": 33,
   "id": "a19054fd-87fd-44dd-b339-4266e77fce6a",
   "metadata": {},
   "outputs": [
    {
     "data": {
      "text/html": [
       "<div>\n",
       "<style scoped>\n",
       "    .dataframe tbody tr th:only-of-type {\n",
       "        vertical-align: middle;\n",
       "    }\n",
       "\n",
       "    .dataframe tbody tr th {\n",
       "        vertical-align: top;\n",
       "    }\n",
       "\n",
       "    .dataframe thead th {\n",
       "        text-align: right;\n",
       "    }\n",
       "</style>\n",
       "<table border=\"1\" class=\"dataframe\">\n",
       "  <thead>\n",
       "    <tr style=\"text-align: right;\">\n",
       "      <th></th>\n",
       "      <th>RegionalNodePositive</th>\n",
       "    </tr>\n",
       "  </thead>\n",
       "  <tbody>\n",
       "    <tr>\n",
       "      <th>count</th>\n",
       "      <td>4024.000000</td>\n",
       "    </tr>\n",
       "    <tr>\n",
       "      <th>mean</th>\n",
       "      <td>4.158052</td>\n",
       "    </tr>\n",
       "    <tr>\n",
       "      <th>std</th>\n",
       "      <td>5.109331</td>\n",
       "    </tr>\n",
       "    <tr>\n",
       "      <th>min</th>\n",
       "      <td>1.000000</td>\n",
       "    </tr>\n",
       "    <tr>\n",
       "      <th>25%</th>\n",
       "      <td>1.000000</td>\n",
       "    </tr>\n",
       "    <tr>\n",
       "      <th>50%</th>\n",
       "      <td>2.000000</td>\n",
       "    </tr>\n",
       "    <tr>\n",
       "      <th>75%</th>\n",
       "      <td>5.000000</td>\n",
       "    </tr>\n",
       "    <tr>\n",
       "      <th>max</th>\n",
       "      <td>46.000000</td>\n",
       "    </tr>\n",
       "  </tbody>\n",
       "</table>\n",
       "</div>"
      ],
      "text/plain": [
       "       RegionalNodePositive\n",
       "count           4024.000000\n",
       "mean               4.158052\n",
       "std                5.109331\n",
       "min                1.000000\n",
       "25%                1.000000\n",
       "50%                2.000000\n",
       "75%                5.000000\n",
       "max               46.000000"
      ]
     },
     "execution_count": 33,
     "metadata": {},
     "output_type": "execute_result"
    }
   ],
   "source": [
    "pd.DataFrame(df.RegionalNodePositive.describe())"
   ]
  },
  {
   "cell_type": "code",
   "execution_count": 34,
   "id": "abba3024-37f6-4f8e-9892-64051f6f320c",
   "metadata": {},
   "outputs": [
    {
     "data": {
      "text/html": [
       "<div>\n",
       "<style scoped>\n",
       "    .dataframe tbody tr th:only-of-type {\n",
       "        vertical-align: middle;\n",
       "    }\n",
       "\n",
       "    .dataframe tbody tr th {\n",
       "        vertical-align: top;\n",
       "    }\n",
       "\n",
       "    .dataframe thead th {\n",
       "        text-align: right;\n",
       "    }\n",
       "</style>\n",
       "<table border=\"1\" class=\"dataframe\">\n",
       "  <thead>\n",
       "    <tr style=\"text-align: right;\">\n",
       "      <th></th>\n",
       "      <th>RegionalNodePositive</th>\n",
       "    </tr>\n",
       "  </thead>\n",
       "  <tbody>\n",
       "    <tr>\n",
       "      <th>1</th>\n",
       "      <td>1522</td>\n",
       "    </tr>\n",
       "    <tr>\n",
       "      <th>2</th>\n",
       "      <td>740</td>\n",
       "    </tr>\n",
       "    <tr>\n",
       "      <th>3</th>\n",
       "      <td>420</td>\n",
       "    </tr>\n",
       "    <tr>\n",
       "      <th>4</th>\n",
       "      <td>261</td>\n",
       "    </tr>\n",
       "    <tr>\n",
       "      <th>5</th>\n",
       "      <td>207</td>\n",
       "    </tr>\n",
       "    <tr>\n",
       "      <th>6</th>\n",
       "      <td>140</td>\n",
       "    </tr>\n",
       "    <tr>\n",
       "      <th>7</th>\n",
       "      <td>108</td>\n",
       "    </tr>\n",
       "    <tr>\n",
       "      <th>9</th>\n",
       "      <td>90</td>\n",
       "    </tr>\n",
       "    <tr>\n",
       "      <th>8</th>\n",
       "      <td>75</td>\n",
       "    </tr>\n",
       "    <tr>\n",
       "      <th>10</th>\n",
       "      <td>61</td>\n",
       "    </tr>\n",
       "    <tr>\n",
       "      <th>11</th>\n",
       "      <td>56</td>\n",
       "    </tr>\n",
       "    <tr>\n",
       "      <th>12</th>\n",
       "      <td>50</td>\n",
       "    </tr>\n",
       "    <tr>\n",
       "      <th>14</th>\n",
       "      <td>41</td>\n",
       "    </tr>\n",
       "    <tr>\n",
       "      <th>13</th>\n",
       "      <td>33</td>\n",
       "    </tr>\n",
       "    <tr>\n",
       "      <th>16</th>\n",
       "      <td>29</td>\n",
       "    </tr>\n",
       "    <tr>\n",
       "      <th>15</th>\n",
       "      <td>26</td>\n",
       "    </tr>\n",
       "    <tr>\n",
       "      <th>17</th>\n",
       "      <td>26</td>\n",
       "    </tr>\n",
       "    <tr>\n",
       "      <th>19</th>\n",
       "      <td>23</td>\n",
       "    </tr>\n",
       "    <tr>\n",
       "      <th>22</th>\n",
       "      <td>16</td>\n",
       "    </tr>\n",
       "    <tr>\n",
       "      <th>18</th>\n",
       "      <td>15</td>\n",
       "    </tr>\n",
       "    <tr>\n",
       "      <th>21</th>\n",
       "      <td>13</td>\n",
       "    </tr>\n",
       "    <tr>\n",
       "      <th>26</th>\n",
       "      <td>10</td>\n",
       "    </tr>\n",
       "    <tr>\n",
       "      <th>20</th>\n",
       "      <td>10</td>\n",
       "    </tr>\n",
       "    <tr>\n",
       "      <th>24</th>\n",
       "      <td>8</td>\n",
       "    </tr>\n",
       "    <tr>\n",
       "      <th>23</th>\n",
       "      <td>8</td>\n",
       "    </tr>\n",
       "    <tr>\n",
       "      <th>28</th>\n",
       "      <td>7</td>\n",
       "    </tr>\n",
       "    <tr>\n",
       "      <th>27</th>\n",
       "      <td>6</td>\n",
       "    </tr>\n",
       "    <tr>\n",
       "      <th>29</th>\n",
       "      <td>6</td>\n",
       "    </tr>\n",
       "    <tr>\n",
       "      <th>25</th>\n",
       "      <td>3</td>\n",
       "    </tr>\n",
       "    <tr>\n",
       "      <th>33</th>\n",
       "      <td>2</td>\n",
       "    </tr>\n",
       "    <tr>\n",
       "      <th>34</th>\n",
       "      <td>2</td>\n",
       "    </tr>\n",
       "    <tr>\n",
       "      <th>30</th>\n",
       "      <td>2</td>\n",
       "    </tr>\n",
       "    <tr>\n",
       "      <th>32</th>\n",
       "      <td>2</td>\n",
       "    </tr>\n",
       "    <tr>\n",
       "      <th>37</th>\n",
       "      <td>2</td>\n",
       "    </tr>\n",
       "    <tr>\n",
       "      <th>35</th>\n",
       "      <td>1</td>\n",
       "    </tr>\n",
       "    <tr>\n",
       "      <th>31</th>\n",
       "      <td>1</td>\n",
       "    </tr>\n",
       "    <tr>\n",
       "      <th>46</th>\n",
       "      <td>1</td>\n",
       "    </tr>\n",
       "    <tr>\n",
       "      <th>41</th>\n",
       "      <td>1</td>\n",
       "    </tr>\n",
       "  </tbody>\n",
       "</table>\n",
       "</div>"
      ],
      "text/plain": [
       "    RegionalNodePositive\n",
       "1                   1522\n",
       "2                    740\n",
       "3                    420\n",
       "4                    261\n",
       "5                    207\n",
       "6                    140\n",
       "7                    108\n",
       "9                     90\n",
       "8                     75\n",
       "10                    61\n",
       "11                    56\n",
       "12                    50\n",
       "14                    41\n",
       "13                    33\n",
       "16                    29\n",
       "15                    26\n",
       "17                    26\n",
       "19                    23\n",
       "22                    16\n",
       "18                    15\n",
       "21                    13\n",
       "26                    10\n",
       "20                    10\n",
       "24                     8\n",
       "23                     8\n",
       "28                     7\n",
       "27                     6\n",
       "29                     6\n",
       "25                     3\n",
       "33                     2\n",
       "34                     2\n",
       "30                     2\n",
       "32                     2\n",
       "37                     2\n",
       "35                     1\n",
       "31                     1\n",
       "46                     1\n",
       "41                     1"
      ]
     },
     "execution_count": 34,
     "metadata": {},
     "output_type": "execute_result"
    }
   ],
   "source": [
    "pd.DataFrame(df.RegionalNodePositive.value_counts())"
   ]
  },
  {
   "cell_type": "code",
   "execution_count": 35,
   "id": "03068def-7133-4fba-ad3d-4257484d4cbc",
   "metadata": {},
   "outputs": [
    {
     "data": {
      "image/png": "[encoded data removed]",
      "text/plain": [
       "<Figure size 1000x600 with 1 Axes>"
      ]
     },
     "metadata": {},
     "output_type": "display_data"
    }
   ],
   "source": [
    "figure = plt.figure(figsize=(10, 6))\n",
    "\n",
    "axes = figure.add_subplot(1, 1, 1)\n",
    "axes.hist(df.RegionalNodePositive, color=\"darkslategray\")\n",
    "axes.set_title(\"Regional Node Positive distribution\")\n",
    "axes.set_xlabel(\"Regional Nodes Examined with Positive Result\")\n",
    "\n",
    "plt.show()\n",
    "plt.close()"
   ]
  },
  {
   "cell_type": "markdown",
   "id": "a7b7a2c1-1634-44fc-a6c8-eaf1abea1a41",
   "metadata": {},
   "source": [
    "#### Survival Months"
   ]
  },
  {
   "cell_type": "markdown",
   "id": "ba68ba0b-19a7-41db-9f5a-f53bcc59c508",
   "metadata": {},
   "source": [
    "[Index](#Index)"
   ]
  },
  {
   "cell_type": "code",
   "execution_count": 36,
   "id": "1b0bfeaa-5ea0-407d-b8b9-f64046340c62",
   "metadata": {},
   "outputs": [
    {
     "data": {
      "text/html": [
       "<div>\n",
       "<style scoped>\n",
       "    .dataframe tbody tr th:only-of-type {\n",
       "        vertical-align: middle;\n",
       "    }\n",
       "\n",
       "    .dataframe tbody tr th {\n",
       "        vertical-align: top;\n",
       "    }\n",
       "\n",
       "    .dataframe thead th {\n",
       "        text-align: right;\n",
       "    }\n",
       "</style>\n",
       "<table border=\"1\" class=\"dataframe\">\n",
       "  <thead>\n",
       "    <tr style=\"text-align: right;\">\n",
       "      <th></th>\n",
       "      <th>SurvivalMonths</th>\n",
       "    </tr>\n",
       "  </thead>\n",
       "  <tbody>\n",
       "    <tr>\n",
       "      <th>count</th>\n",
       "      <td>4024.000000</td>\n",
       "    </tr>\n",
       "    <tr>\n",
       "      <th>mean</th>\n",
       "      <td>71.297962</td>\n",
       "    </tr>\n",
       "    <tr>\n",
       "      <th>std</th>\n",
       "      <td>22.921430</td>\n",
       "    </tr>\n",
       "    <tr>\n",
       "      <th>min</th>\n",
       "      <td>1.000000</td>\n",
       "    </tr>\n",
       "    <tr>\n",
       "      <th>25%</th>\n",
       "      <td>56.000000</td>\n",
       "    </tr>\n",
       "    <tr>\n",
       "      <th>50%</th>\n",
       "      <td>73.000000</td>\n",
       "    </tr>\n",
       "    <tr>\n",
       "      <th>75%</th>\n",
       "      <td>90.000000</td>\n",
       "    </tr>\n",
       "    <tr>\n",
       "      <th>max</th>\n",
       "      <td>107.000000</td>\n",
       "    </tr>\n",
       "  </tbody>\n",
       "</table>\n",
       "</div>"
      ],
      "text/plain": [
       "       SurvivalMonths\n",
       "count     4024.000000\n",
       "mean        71.297962\n",
       "std         22.921430\n",
       "min          1.000000\n",
       "25%         56.000000\n",
       "50%         73.000000\n",
       "75%         90.000000\n",
       "max        107.000000"
      ]
     },
     "execution_count": 36,
     "metadata": {},
     "output_type": "execute_result"
    }
   ],
   "source": [
    "pd.DataFrame(df.SurvivalMonths.describe())"
   ]
  },
  {
   "cell_type": "code",
   "execution_count": 37,
   "id": "412a6826-e672-4152-ab24-5e0841721e71",
   "metadata": {},
   "outputs": [
    {
     "data": {
      "image/png": "[encoded data removed]",
      "text/plain": [
       "<Figure size 1000x600 with 1 Axes>"
      ]
     },
     "metadata": {},
     "output_type": "display_data"
    }
   ],
   "source": [
    "figure = plt.figure(figsize=(10, 6))\n",
    "\n",
    "axes = figure.add_subplot(1, 1, 1)\n",
    "axes.hist(df.SurvivalMonths, color=\"darkslategray\")\n",
    "axes.set_title(\"Survival Months distribution\")\n",
    "axes.set_xlabel(\"Months of Survival after Diagnosis\")\n",
    "\n",
    "plt.show()\n",
    "plt.close()"
   ]
  },
  {
   "cell_type": "markdown",
   "id": "61cf68c2-4207-409d-8b3b-62769ed4f906",
   "metadata": {},
   "source": [
    "#### Status"
   ]
  },
  {
   "cell_type": "markdown",
   "id": "a202fa37-19a9-4f14-895e-e52e5771f3ff",
   "metadata": {},
   "source": [
    "[Index](#Index)"
   ]
  },
  {
   "cell_type": "code",
   "execution_count": 38,
   "id": "f246a8db-e3ba-47ba-a835-6fb74889988e",
   "metadata": {},
   "outputs": [
    {
     "data": {
      "text/html": [
       "<div>\n",
       "<style scoped>\n",
       "    .dataframe tbody tr th:only-of-type {\n",
       "        vertical-align: middle;\n",
       "    }\n",
       "\n",
       "    .dataframe tbody tr th {\n",
       "        vertical-align: top;\n",
       "    }\n",
       "\n",
       "    .dataframe thead th {\n",
       "        text-align: right;\n",
       "    }\n",
       "</style>\n",
       "<table border=\"1\" class=\"dataframe\">\n",
       "  <thead>\n",
       "    <tr style=\"text-align: right;\">\n",
       "      <th></th>\n",
       "      <th>Status</th>\n",
       "    </tr>\n",
       "  </thead>\n",
       "  <tbody>\n",
       "    <tr>\n",
       "      <th>count</th>\n",
       "      <td>4024</td>\n",
       "    </tr>\n",
       "    <tr>\n",
       "      <th>unique</th>\n",
       "      <td>2</td>\n",
       "    </tr>\n",
       "    <tr>\n",
       "      <th>top</th>\n",
       "      <td>Alive</td>\n",
       "    </tr>\n",
       "    <tr>\n",
       "      <th>freq</th>\n",
       "      <td>3408</td>\n",
       "    </tr>\n",
       "  </tbody>\n",
       "</table>\n",
       "</div>"
      ],
      "text/plain": [
       "       Status\n",
       "count    4024\n",
       "unique      2\n",
       "top     Alive\n",
       "freq     3408"
      ]
     },
     "execution_count": 38,
     "metadata": {},
     "output_type": "execute_result"
    }
   ],
   "source": [
    "pd.DataFrame(df.Status.describe())"
   ]
  },
  {
   "cell_type": "code",
   "execution_count": 39,
   "id": "6c680e62-63c5-4271-91fe-bef28a9bcc9a",
   "metadata": {},
   "outputs": [
    {
     "data": {
      "text/html": [
       "<div>\n",
       "<style scoped>\n",
       "    .dataframe tbody tr th:only-of-type {\n",
       "        vertical-align: middle;\n",
       "    }\n",
       "\n",
       "    .dataframe tbody tr th {\n",
       "        vertical-align: top;\n",
       "    }\n",
       "\n",
       "    .dataframe thead th {\n",
       "        text-align: right;\n",
       "    }\n",
       "</style>\n",
       "<table border=\"1\" class=\"dataframe\">\n",
       "  <thead>\n",
       "    <tr style=\"text-align: right;\">\n",
       "      <th></th>\n",
       "      <th>Status</th>\n",
       "    </tr>\n",
       "  </thead>\n",
       "  <tbody>\n",
       "    <tr>\n",
       "      <th>Alive</th>\n",
       "      <td>3408</td>\n",
       "    </tr>\n",
       "    <tr>\n",
       "      <th>Dead</th>\n",
       "      <td>616</td>\n",
       "    </tr>\n",
       "  </tbody>\n",
       "</table>\n",
       "</div>"
      ],
      "text/plain": [
       "       Status\n",
       "Alive    3408\n",
       "Dead      616"
      ]
     },
     "execution_count": 39,
     "metadata": {},
     "output_type": "execute_result"
    }
   ],
   "source": [
    "pd.DataFrame(df.Status.value_counts())"
   ]
  },
  {
   "cell_type": "markdown",
   "id": "2821e1fc-f7b2-451f-a83b-6ca403939259",
   "metadata": {},
   "source": [
    "### Pairwise Relationships"
   ]
  },
  {
   "cell_type": "markdown",
   "id": "28728408-00e8-4473-8d86-ec3516d3fcf1",
   "metadata": {},
   "source": [
    "[Index](#Index)"
   ]
  },
  {
   "cell_type": "code",
   "execution_count": 40,
   "id": "2b36e8a5-7cb0-47a3-913c-ceeac1a9d9be",
   "metadata": {},
   "outputs": [],
   "source": [
    "# Categorical vs Categorical Functions\n",
    "def heatmap_categoricals(data, x, y):\n",
    "    result =  pd.crosstab( data[ x], data[ y]).apply(lambda r: r/len(data), axis=1)\n",
    "    print(result)\n",
    "    sns.heatmap( result, cmap=sns.cm.mako_r);\n",
    "\n",
    "# Numerical vs Categorical Functions\n",
    "def describe_by_category(data, numeric, categorical):\n",
    "    grouped = data.groupby(categorical)\n",
    "    grouped_y = grouped[numeric].describe()\n",
    "    print(grouped_y) \n",
    "    \n",
    "def multiboxplot(data, numeric, categorical, skip_data_points=True):\n",
    "    figure = plt.figure(figsize=(10, 6))\n",
    "    axes = figure.add_subplot(1, 1, 1)\n",
    "\n",
    "    grouped = data.groupby(categorical)\n",
    "    labels = pd.unique(data[categorical].values)\n",
    "    labels.sort()\n",
    "    grouped_data = [grouped[numeric].get_group( k) for k in labels]\n",
    "    patch = axes.boxplot( grouped_data, labels=labels, patch_artist=True, zorder=1)\n",
    "\n",
    "    if not skip_data_points:\n",
    "        for i, k in enumerate(labels):\n",
    "            subdata = grouped[numeric].get_group( k)\n",
    "            x = np.random.normal(i + 1, 0.01, size=len(subdata))\n",
    "            axes.plot(x, subdata, 'o', alpha=0.4, color=\"DimGray\", zorder=2)\n",
    "\n",
    "    axes.set_xlabel(categorical)\n",
    "    axes.set_ylabel(numeric)\n",
    "    axes.set_title(\"Distribution of {0} by {1}\".format(numeric, categorical))\n",
    "    plt.show()\n",
    "    plt.close()"
   ]
  },
  {
   "cell_type": "markdown",
   "id": "b73781f9-5432-4ffe-95aa-55afd2ef9110",
   "metadata": {},
   "source": [
    "#### Status vs. Age"
   ]
  },
  {
   "cell_type": "markdown",
   "id": "596089db-1e43-464d-87b9-990716e13dde",
   "metadata": {},
   "source": [
    "[Index](#Index)"
   ]
  },
  {
   "cell_type": "code",
   "execution_count": 41,
   "id": "824f872b-b81e-4fd9-b5df-a44186bb4489",
   "metadata": {},
   "outputs": [],
   "source": [
    "df['Status_str'] = df['Status']\n",
    "status_map = {'Alive':1, 'Dead':0}\n",
    "df['Status'] = df['Status'].map(status_map)"
   ]
  },
  {
   "cell_type": "code",
   "execution_count": 42,
   "id": "22a0beca-d0db-4507-b5e0-5b0def9acb36",
   "metadata": {},
   "outputs": [
    {
     "name": "stdout",
     "output_type": "stream",
     "text": [
      "         count       mean       std   min   25%   50%   75%   max\n",
      "Status                                                           \n",
      "0        616.0  55.150974  9.698291  30.0  48.0  56.5  63.0  69.0\n",
      "1       3408.0  53.759096  8.808420  30.0  47.0  54.0  61.0  69.0\n"
     ]
    }
   ],
   "source": [
    "describe_by_category(df, \"Age\", \"Status\")"
   ]
  },
  {
   "cell_type": "code",
   "execution_count": 43,
   "id": "18817a1f-2c6d-4086-8c83-8a12300bcd8b",
   "metadata": {},
   "outputs": [
    {
     "data": {
      "image/png": "[encoded data removed]",
      "text/plain": [
       "<Figure size 2000x600 with 2 Axes>"
      ]
     },
     "metadata": {},
     "output_type": "display_data"
    }
   ],
   "source": [
    "grouped = df.groupby(\"Status\")\n",
    "\n",
    "figure = plt.figure(figsize=(20, 6))\n",
    "\n",
    "axes = figure.add_subplot(1, 2, 1)\n",
    "axes.hist(grouped[\"Age\"].get_group(1),color=\"darkslategray\",density=True)\n",
    "axes.set_title(\"Age distribution of patients who are Alive\")\n",
    "axes.set_xlabel(\"Age\")\n",
    "axes.set_ylim((0,0.05))\n",
    "\n",
    "axes = figure.add_subplot(1, 2, 2)\n",
    "axes.hist(grouped[\"Age\"].get_group(0),color=\"darkslategray\",density=True)\n",
    "axes.set_title(\"Age distribution of patients who are Dead\")\n",
    "axes.set_xlabel(\"Age\")\n",
    "axes.set_ylim((0,0.05))\n",
    "\n",
    "plt.show()\n",
    "plt.close()"
   ]
  },
  {
   "cell_type": "markdown",
   "id": "8a32f5de-a403-40d7-83a1-256c6744d68f",
   "metadata": {},
   "source": [
    "#### Status vs. Race"
   ]
  },
  {
   "cell_type": "markdown",
   "id": "0c177219-128f-4c6d-9af7-7ea710beab73",
   "metadata": {},
   "source": [
    "[Index](#Index)"
   ]
  },
  {
   "cell_type": "code",
   "execution_count": 44,
   "id": "dc6cd374-5ff5-4ee7-b083-832b2c9d8b82",
   "metadata": {},
   "outputs": [
    {
     "name": "stdout",
     "output_type": "stream",
     "text": [
      "Status_str                                             Alive      Dead\n",
      "Race                                                                  \n",
      "Black                                               0.054175  0.018141\n",
      "Other (American Indian/AK Native, Asian/Pacific...  0.071322  0.008201\n",
      "White                                               0.721421  0.126740\n"
     ]
    },
    {
     "data": {
      "image/png": "[encoded data removed]",
      "text/plain": [
       "<Figure size 640x480 with 2 Axes>"
      ]
     },
     "metadata": {},
     "output_type": "display_data"
    }
   ],
   "source": [
    "heatmap_categoricals(df, 'Race', 'Status_str')"
   ]
  },
  {
   "cell_type": "markdown",
   "id": "84b53def-2a2a-4ed3-8440-75b9822322e9",
   "metadata": {},
   "source": [
    "#### Status vs. Marital Status"
   ]
  },
  {
   "cell_type": "markdown",
   "id": "ea2ec514-5712-4f53-8066-fea261909ec5",
   "metadata": {},
   "source": [
    "[Index](#Index)"
   ]
  },
  {
   "cell_type": "code",
   "execution_count": 45,
   "id": "b3df3314-df4e-4e41-bc93-58c0b0e109f8",
   "metadata": {},
   "outputs": [
    {
     "name": "stdout",
     "output_type": "stream",
     "text": [
      "Status_str                         Alive      Dead\n",
      "MaritalStatus                                     \n",
      "Divorced                        0.098410  0.022366\n",
      "Married (including common law)  0.567843  0.088966\n",
      "Separated                       0.007455  0.003728\n",
      "Single (never married)          0.126988  0.025845\n",
      "Widowed                         0.046223  0.012177\n"
     ]
    },
    {
     "data": {
      "image/png": "[encoded data removed]",
      "text/plain": [
       "<Figure size 640x480 with 2 Axes>"
      ]
     },
     "metadata": {},
     "output_type": "display_data"
    }
   ],
   "source": [
    "heatmap_categoricals(df, 'MaritalStatus', 'Status_str')"
   ]
  },
  {
   "cell_type": "markdown",
   "id": "449923c0-f352-4662-abb4-7f04f5eedafe",
   "metadata": {},
   "source": [
    "#### Status vs. T-Stage"
   ]
  },
  {
   "cell_type": "markdown",
   "id": "dbccff6b-9ffc-4661-863f-205a0920f382",
   "metadata": {},
   "source": [
    "[Index](#Index)"
   ]
  },
  {
   "cell_type": "code",
   "execution_count": 46,
   "id": "49375527-a79f-4ec7-97f0-5f5a59710bb7",
   "metadata": {},
   "outputs": [
    {
     "name": "stdout",
     "output_type": "stream",
     "text": [
      "Status_str     Alive      Dead\n",
      "TStage                        \n",
      "T1          0.359344  0.039016\n",
      "T2          0.368539  0.075298\n",
      "T3          0.103628  0.028827\n",
      "T4          0.015408  0.009940\n"
     ]
    },
    {
     "data": {
      "image/png": "[encoded data removed]",
      "text/plain": [
       "<Figure size 640x480 with 2 Axes>"
      ]
     },
     "metadata": {},
     "output_type": "display_data"
    }
   ],
   "source": [
    "heatmap_categoricals(df, 'TStage', 'Status_str')"
   ]
  },
  {
   "cell_type": "markdown",
   "id": "2f4f9bd6-9cac-47b5-ab51-37a104592c73",
   "metadata": {},
   "source": [
    "#### Status vs. N-Stage"
   ]
  },
  {
   "cell_type": "markdown",
   "id": "806f9d21-368c-4784-851c-43b4d40a0fff",
   "metadata": {},
   "source": [
    "[Index](#Index)"
   ]
  },
  {
   "cell_type": "code",
   "execution_count": 47,
   "id": "95b088bd-c6f2-42a6-9baa-a514f5bbf08a",
   "metadata": {},
   "outputs": [
    {
     "name": "stdout",
     "output_type": "stream",
     "text": [
      "Status_str     Alive      Dead\n",
      "NStage                        \n",
      "N1          0.611829  0.067097\n",
      "N2          0.162773  0.041004\n",
      "N3          0.072316  0.044980\n"
     ]
    },
    {
     "data": {
      "image/png": "[encoded data removed]",
      "text/plain": [
       "<Figure size 640x480 with 2 Axes>"
      ]
     },
     "metadata": {},
     "output_type": "display_data"
    }
   ],
   "source": [
    "heatmap_categoricals(df, 'NStage', 'Status_str')"
   ]
  },
  {
   "cell_type": "markdown",
   "id": "85d7880f-ecec-49d0-b77e-7ccb46096300",
   "metadata": {},
   "source": [
    "#### Status vs. 6th-Stage"
   ]
  },
  {
   "cell_type": "markdown",
   "id": "46dbbf5d-bdb2-4059-92fe-b5b17e4ee9f2",
   "metadata": {},
   "source": [
    "[Index](#Index)"
   ]
  },
  {
   "cell_type": "code",
   "execution_count": 48,
   "id": "d21be7c5-5bbe-4c52-8a77-c321e50fb520",
   "metadata": {},
   "outputs": [
    {
     "name": "stdout",
     "output_type": "stream",
     "text": [
      "Status_str     Alive      Dead\n",
      "6thStage                      \n",
      "IIA         0.300447  0.023857\n",
      "IIB         0.247266  0.033549\n",
      "IIIA        0.215209  0.045726\n",
      "IIIB        0.011680  0.004970\n",
      "IIIC        0.072316  0.044980\n"
     ]
    },
    {
     "data": {
      "image/png": "[encoded data removed]",
      "text/plain": [
       "<Figure size 640x480 with 2 Axes>"
      ]
     },
     "metadata": {},
     "output_type": "display_data"
    }
   ],
   "source": [
    "heatmap_categoricals(df, '6thStage', 'Status_str')"
   ]
  },
  {
   "cell_type": "markdown",
   "id": "5d935dc4-977d-49eb-b634-ac6827bf0182",
   "metadata": {},
   "source": [
    "#### Status vs. Grade"
   ]
  },
  {
   "cell_type": "markdown",
   "id": "80078fbb-3a49-4482-aa00-a76b25e4da49",
   "metadata": {},
   "source": [
    "[Index](#Index)"
   ]
  },
  {
   "cell_type": "code",
   "execution_count": 49,
   "id": "bebd2d0e-f2f6-4d24-aeb0-17c03b461423",
   "metadata": {},
   "outputs": [
    {
     "name": "stdout",
     "output_type": "stream",
     "text": [
      "Status_str                                 Alive      Dead\n",
      "Grade                                                     \n",
      "Moderately differentiated; Grade II     0.508449  0.075795\n",
      "Poorly differentiated; Grade III        0.210736  0.065358\n",
      "Undifferentiated; anaplastic; Grade IV  0.002485  0.002237\n",
      "Well differentiated; Grade I            0.125249  0.009692\n"
     ]
    },
    {
     "data": {
      "image/png": "[encoded data removed]",
      "text/plain": [
       "<Figure size 640x480 with 2 Axes>"
      ]
     },
     "metadata": {},
     "output_type": "display_data"
    }
   ],
   "source": [
    "heatmap_categoricals(df, 'Grade', 'Status_str')"
   ]
  },
  {
   "cell_type": "markdown",
   "id": "a01c8681-bd06-45d0-8d9a-79ef410b9afd",
   "metadata": {},
   "source": [
    "#### Status vs. A-Stage"
   ]
  },
  {
   "cell_type": "markdown",
   "id": "3dd0440b-a97e-49e4-9e3f-af618bbbc68c",
   "metadata": {},
   "source": [
    "[Index](#Index)"
   ]
  },
  {
   "cell_type": "code",
   "execution_count": 50,
   "id": "07d61294-2fd6-46d8-a785-627996e05eb4",
   "metadata": {},
   "outputs": [
    {
     "name": "stdout",
     "output_type": "stream",
     "text": [
      "Status_str     Alive      Dead\n",
      "AStage                        \n",
      "Distant     0.014165  0.008698\n",
      "Regional    0.832753  0.144384\n"
     ]
    },
    {
     "data": {
      "image/png": "[encoded data removed]",
      "text/plain": [
       "<Figure size 640x480 with 2 Axes>"
      ]
     },
     "metadata": {},
     "output_type": "display_data"
    }
   ],
   "source": [
    "heatmap_categoricals(df, 'AStage', 'Status_str')"
   ]
  },
  {
   "cell_type": "markdown",
   "id": "f1972b09-0fe1-4475-9f4c-eeeff0bb48b8",
   "metadata": {},
   "source": [
    "#### Status vs. Tumor Size"
   ]
  },
  {
   "cell_type": "markdown",
   "id": "ee223ca8-48f5-4cbd-9ac1-c45548657400",
   "metadata": {},
   "source": [
    "[Index](#Index)"
   ]
  },
  {
   "cell_type": "code",
   "execution_count": 51,
   "id": "69067163-f725-4abb-802f-3207754f99ae",
   "metadata": {},
   "outputs": [
    {
     "name": "stdout",
     "output_type": "stream",
     "text": [
      "             count       mean        std  min   25%   50%   75%    max\n",
      "Status_str                                                            \n",
      "Alive       3408.0  29.268779  20.303175  1.0  15.0  23.0  35.0  140.0\n",
      "Dead         616.0  37.139610  24.116115  1.0  20.0  30.0  50.0  140.0\n"
     ]
    }
   ],
   "source": [
    "describe_by_category(df, \"TumorSize\", \"Status_str\")"
   ]
  },
  {
   "cell_type": "code",
   "execution_count": 52,
   "id": "e3c18a25-c0ab-4f2f-9e1c-8cbe81702b09",
   "metadata": {},
   "outputs": [
    {
     "data": {
      "image/png": "[encoded data removed]",
      "text/plain": [
       "<Figure size 1000x600 with 1 Axes>"
      ]
     },
     "metadata": {},
     "output_type": "display_data"
    }
   ],
   "source": [
    "multiboxplot(df, \"TumorSize\", \"Status_str\")"
   ]
  },
  {
   "cell_type": "markdown",
   "id": "eebbcea1-db34-49ac-b34e-22fc24b5ec74",
   "metadata": {},
   "source": [
    "#### Status vs. Estrogen Status"
   ]
  },
  {
   "cell_type": "markdown",
   "id": "f46844f2-b172-48fc-851d-35211c4f826e",
   "metadata": {},
   "source": [
    "[Index](#Index)"
   ]
  },
  {
   "cell_type": "code",
   "execution_count": 53,
   "id": "80b996a5-d3cf-4482-a7d6-e61e39cd503b",
   "metadata": {},
   "outputs": [
    {
     "name": "stdout",
     "output_type": "stream",
     "text": [
      "Status_str         Alive      Dead\n",
      "EstrogenStatus                    \n",
      "Negative        0.040010  0.026839\n",
      "Positive        0.806909  0.126243\n"
     ]
    },
    {
     "data": {
      "image/png": "[encoded data removed]",
      "text/plain": [
       "<Figure size 640x480 with 2 Axes>"
      ]
     },
     "metadata": {},
     "output_type": "display_data"
    }
   ],
   "source": [
    "heatmap_categoricals(df, 'EstrogenStatus', 'Status_str')"
   ]
  },
  {
   "cell_type": "markdown",
   "id": "503253dc-1291-418e-8bb2-ed1d6fe799ba",
   "metadata": {},
   "source": [
    "#### Status vs. Progesterone Status"
   ]
  },
  {
   "cell_type": "markdown",
   "id": "ab266736-1e4e-48e2-bed0-b255e486c8d6",
   "metadata": {},
   "source": [
    "[Index](#Index)"
   ]
  },
  {
   "cell_type": "code",
   "execution_count": 54,
   "id": "11aaffe1-0bce-4b9c-8862-b20de36baae1",
   "metadata": {},
   "outputs": [
    {
     "name": "stdout",
     "output_type": "stream",
     "text": [
      "Status_str             Alive      Dead\n",
      "ProgesteroneStatus                    \n",
      "Negative            0.122763  0.050696\n",
      "Positive            0.724155  0.102386\n"
     ]
    },
    {
     "data": {
      "image/png": "[encoded data removed]",
      "text/plain": [
       "<Figure size 640x480 with 2 Axes>"
      ]
     },
     "metadata": {},
     "output_type": "display_data"
    }
   ],
   "source": [
    "heatmap_categoricals(df, 'ProgesteroneStatus', 'Status_str')"
   ]
  },
  {
   "cell_type": "markdown",
   "id": "a3b6cb4c-34ba-472d-8497-01110c832135",
   "metadata": {},
   "source": [
    "#### Status vs. Regional Node Examined"
   ]
  },
  {
   "cell_type": "markdown",
   "id": "40afbeab-536a-461b-9be4-1376f6ba613d",
   "metadata": {},
   "source": [
    "[Index](#Index)"
   ]
  },
  {
   "cell_type": "code",
   "execution_count": 55,
   "id": "135e2f74-2a6e-4098-beb1-5d829026d21c",
   "metadata": {},
   "outputs": [
    {
     "name": "stdout",
     "output_type": "stream",
     "text": [
      "             count       mean       std  min  25%   50%   75%   max\n",
      "Status_str                                                         \n",
      "Alive       3408.0  14.237383  8.023208  1.0  9.0  14.0  19.0  61.0\n",
      "Dead         616.0  15.019481  8.486600  1.0  9.0  14.0  20.0  57.0\n"
     ]
    }
   ],
   "source": [
    "describe_by_category(df, \"RegionalNodeExamined\", \"Status_str\")"
   ]
  },
  {
   "cell_type": "code",
   "execution_count": 56,
   "id": "1a69f2ad-e2b6-4acd-b357-7c20f542f1a4",
   "metadata": {},
   "outputs": [
    {
     "data": {
      "image/png": "[encoded data removed]",
      "text/plain": [
       "<Figure size 1000x600 with 1 Axes>"
      ]
     },
     "metadata": {},
     "output_type": "display_data"
    }
   ],
   "source": [
    "multiboxplot(df, \"RegionalNodeExamined\", \"Status_str\")"
   ]
  },
  {
   "cell_type": "markdown",
   "id": "aaf4ecd6-100b-4072-994a-92f4f6a245b2",
   "metadata": {},
   "source": [
    "#### Status vs. Regional Node Positive"
   ]
  },
  {
   "cell_type": "markdown",
   "id": "a2a484ed-d575-4dc5-98ef-c45bfa7fd8b9",
   "metadata": {},
   "source": [
    "[Index](#Index)"
   ]
  },
  {
   "cell_type": "code",
   "execution_count": 57,
   "id": "383ab4cf-eda7-4e8e-abce-0f47bbcc43b7",
   "metadata": {},
   "outputs": [
    {
     "name": "stdout",
     "output_type": "stream",
     "text": [
      "             count      mean       std  min  25%  50%   75%   max\n",
      "Status_str                                                       \n",
      "Alive       3408.0  3.600646  4.375180  1.0  1.0  2.0   4.0  41.0\n",
      "Dead         616.0  7.241883  7.312642  1.0  2.0  4.0  10.0  46.0\n"
     ]
    }
   ],
   "source": [
    "describe_by_category(df, \"RegionalNodePositive\", \"Status_str\")"
   ]
  },
  {
   "cell_type": "code",
   "execution_count": 58,
   "id": "c721e716-b308-4893-89b7-61b4d7026de0",
   "metadata": {},
   "outputs": [
    {
     "data": {
      "image/png": "[encoded data removed]",
      "text/plain": [
       "<Figure size 1000x600 with 1 Axes>"
      ]
     },
     "metadata": {},
     "output_type": "display_data"
    }
   ],
   "source": [
    "multiboxplot(df, \"RegionalNodePositive\", \"Status_str\")"
   ]
  },
  {
   "cell_type": "markdown",
   "id": "c2812047-f034-4bc6-95e0-1175fb3dad20",
   "metadata": {},
   "source": [
    "#### Status vs. Survival Months"
   ]
  },
  {
   "cell_type": "markdown",
   "id": "9d040102-9296-4132-b6b3-6b9c4bf8c31d",
   "metadata": {},
   "source": [
    "[Index](#Index)"
   ]
  },
  {
   "cell_type": "code",
   "execution_count": 59,
   "id": "3351efc8-7ad1-4c4c-ace3-b97ddfb5110c",
   "metadata": {},
   "outputs": [
    {
     "name": "stdout",
     "output_type": "stream",
     "text": [
      "             count       mean        std  min   25%   50%   75%    max\n",
      "Status_str                                                            \n",
      "Alive       3408.0  75.941021  19.386459  1.0  61.0  77.0  92.0  107.0\n",
      "Dead         616.0  45.610390  23.966253  2.0  27.0  44.0  61.0  102.0\n"
     ]
    }
   ],
   "source": [
    "describe_by_category(df, \"SurvivalMonths\", \"Status_str\")"
   ]
  },
  {
   "cell_type": "code",
   "execution_count": 60,
   "id": "a3933e00-01e7-4712-b11d-64119c9c9568",
   "metadata": {},
   "outputs": [
    {
     "data": {
      "image/png": "[encoded data removed]",
      "text/plain": [
       "<Figure size 1000x600 with 1 Axes>"
      ]
     },
     "metadata": {},
     "output_type": "display_data"
    }
   ],
   "source": [
    "multiboxplot(df, \"SurvivalMonths\", \"Status_str\")"
   ]
  }
 ],
 "metadata": {
  "kernelspec": {
   "display_name": "Python 3 (ipykernel)",
   "language": "python",
   "name": "python3"
  },
  "language_info": {
   "codemirror_mode": {
    "name": "ipython",
    "version": 3
   },
   "file_extension": ".py",
   "mimetype": "text/x-python",
   "name": "python",
   "nbconvert_exporter": "python",
   "pygments_lexer": "ipython3",
   "version": "3.10.6"
  },
  "vscode": {
   "interpreter": {
    "hash": "d4d1e4263499bec80672ea0156c357c1ee493ec2b1c70f0acce89fc37c4a6abe"
   }
  }
 },
 "nbformat": 4,
 "nbformat_minor": 5
}
